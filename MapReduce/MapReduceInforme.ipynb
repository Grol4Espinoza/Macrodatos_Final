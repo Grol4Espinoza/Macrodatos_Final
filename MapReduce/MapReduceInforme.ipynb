{
 "cells": [
  {
   "cell_type": "markdown",
   "metadata": {},
   "source": [
    "# Lectura de Base de datos"
   ]
  },
  {
   "cell_type": "code",
   "execution_count": 1,
   "metadata": {},
   "outputs": [
    {
     "data": {
      "text/plain": [
       "Intitializing Scala interpreter ..."
      ]
     },
     "metadata": {},
     "output_type": "display_data"
    },
    {
     "data": {
      "text/plain": [
       "Spark Web UI available at http://DESKTOP-LBH4NFU:4040\n",
       "SparkContext available as 'sc' (version = 2.3.0, master = local[*], app id = local-1613669720563)\n",
       "SparkSession available as 'spark'\n"
      ]
     },
     "metadata": {},
     "output_type": "display_data"
    },
    {
     "data": {
      "text/plain": [
       "bdjuego: org.apache.spark.rdd.RDD[String] = dato.csv MapPartitionsRDD[1] at textFile at <console>:26\r\n",
       "bd: org.apache.spark.rdd.RDD[String] = MapPartitionsRDD[2] at mapPartitionsWithIndex at <console>:28\n"
      ]
     },
     "execution_count": 1,
     "metadata": {},
     "output_type": "execute_result"
    }
   ],
   "source": [
    "//leer archivo\n",
    "val bdjuego = sc.textFile(\"dato.csv\")\n",
    "//quitar cabecera\n",
    "val bd = bdjuego.mapPartitionsWithIndex{(idx,iter)=>if(idx==0) iter.drop(1) else iter}"
   ]
  },
  {
   "cell_type": "markdown",
   "metadata": {},
   "source": [
    "## Consulta 1: Que compañia vendio mas y menos?"
   ]
  },
  {
   "cell_type": "code",
   "execution_count": 2,
   "metadata": {},
   "outputs": [
    {
     "data": {
      "text/plain": [
       "consulta: org.apache.spark.rdd.RDD[(String, Double)] = ShuffledRDD[4] at reduceByKey at <console>:28\r\n",
       "mayor: org.apache.spark.rdd.RDD[(Double, String)] = ShuffledRDD[8] at sortByKey at <console>:30\r\n",
       "menor: org.apache.spark.rdd.RDD[(Double, String)] = ShuffledRDD[12] at sortByKey at <console>:32\n"
      ]
     },
     "execution_count": 2,
     "metadata": {},
     "output_type": "execute_result"
    }
   ],
   "source": [
    "val consulta = bd.map(s=>(s.split(\",\")(0),s.split(\",\")(7).toDouble)).reduceByKey(_+_)\n",
    "//QUE COMPAÑIA VENDIO MAS?\n",
    "val mayor = consulta.map(item =>item.swap).sortByKey(false)\n",
    "//QUE COMPAÑIA VENDIO MENOS?\n",
    "val menor = consulta.map(item =>item.swap).sortByKey()"
   ]
  },
  {
   "cell_type": "markdown",
   "metadata": {},
   "source": [
    "### Imprimir Resultado"
   ]
  },
  {
   "cell_type": "code",
   "execution_count": 3,
   "metadata": {},
   "outputs": [
    {
     "name": "stdout",
     "output_type": "stream",
     "text": [
      "(mayor: ,(965.9099999999996,PS2))\n",
      "(menor: ,(4.55,DC))\n"
     ]
    }
   ],
   "source": [
    "//imprimir el resultado\n",
    "println(\"mayor: \",mayor.first())\n",
    "println(\"menor: \",menor.first())"
   ]
  },
  {
   "cell_type": "markdown",
   "metadata": {},
   "source": [
    "## Consulta 2: Que tipo de producto se produce mas y menos?"
   ]
  },
  {
   "cell_type": "code",
   "execution_count": 4,
   "metadata": {},
   "outputs": [
    {
     "data": {
      "text/plain": [
       "consulta: org.apache.spark.rdd.RDD[((String, String, String, String, String), Int)] = ShuffledRDD[15] at reduceByKey at <console>:30\r\n",
       "mayor: org.apache.spark.rdd.RDD[(Int, (String, String, String, String, String))] = ShuffledRDD[19] at sortByKey at <console>:32\r\n",
       "menor: org.apache.spark.rdd.RDD[(Int, (String, String, String, String, String))] = ShuffledRDD[23] at sortByKey at <console>:34\n"
      ]
     },
     "execution_count": 4,
     "metadata": {},
     "output_type": "execute_result"
    }
   ],
   "source": [
    "val consulta = bd.map(s=>(s.split(\",\")(0),s.split(\",\")(1),s.split(\",\")(2),s.split(\",\")(8),s.split(\",\")(9))).map(word=>(word,1)).reduceByKey(_+_)\n",
    "//QUE TIPO DE PRODUCTO SE PRODUCE MAS?\n",
    "val mayor = consulta.map(item =>item.swap).sortByKey(false)\n",
    "//QUE TIPO DE PRODUCTO SE PRODUCE MENOS?\n",
    "val menor = consulta.map(item =>item.swap).sortByKey()"
   ]
  },
  {
   "cell_type": "markdown",
   "metadata": {},
   "source": [
    "### Imprimir Resultado"
   ]
  },
  {
   "cell_type": "code",
   "execution_count": 5,
   "metadata": {},
   "outputs": [
    {
     "name": "stdout",
     "output_type": "stream",
     "text": [
      "(mayor: ,(44,(PS2,Sports,Electronic Arts,E,Excelente)))\n",
      "(menor: ,(1,(PS2,Misc,Take-Two Interactive,T,Aceptable)))\n"
     ]
    }
   ],
   "source": [
    "//imprimir el resultado\n",
    "println(\"mayor: \",mayor.first())\n",
    "println(\"menor: \",menor.first())"
   ]
  },
  {
   "cell_type": "markdown",
   "metadata": {},
   "source": [
    "## Consulta 3: Que producto vendio mas y menos?"
   ]
  },
  {
   "cell_type": "code",
   "execution_count": 6,
   "metadata": {},
   "outputs": [
    {
     "data": {
      "text/plain": [
       "consulta: org.apache.spark.rdd.RDD[((String, String, String, String, String), Double)] = MapPartitionsRDD[24] at map at <console>:30\r\n",
       "mayor: org.apache.spark.rdd.RDD[(Double, (String, String, String, String, String))] = ShuffledRDD[28] at sortByKey at <console>:32\r\n",
       "menor: org.apache.spark.rdd.RDD[(Double, (String, String, String, String, String))] = ShuffledRDD[32] at sortByKey at <console>:34\n"
      ]
     },
     "execution_count": 6,
     "metadata": {},
     "output_type": "execute_result"
    }
   ],
   "source": [
    "val consulta = bd.map(s=>((s.split(\",\")(0),s.split(\",\")(1),s.split(\",\")(2),s.split(\",\")(8),s.split(\",\")(9)),s.split(\",\")(7).toDouble))\n",
    "//QUE PRODUCTO VENDIO MAS?\n",
    "val mayor = consulta.map(item =>item.swap).sortByKey(false)\n",
    "//QUE PRODUCTO VENDIO MENOS?\n",
    "val menor = consulta.map(item =>item.swap).sortByKey()"
   ]
  },
  {
   "cell_type": "markdown",
   "metadata": {},
   "source": [
    "### Imprimir Resultado"
   ]
  },
  {
   "cell_type": "code",
   "execution_count": 7,
   "metadata": {},
   "outputs": [
    {
     "name": "stdout",
     "output_type": "stream",
     "text": [
      "(mayor: ,(82.54,(Wii,Sports,Nintendo,E,Bueno)))\n",
      "(menor: ,(0.0,(GBA,Simulation,Destination Software,0.05,T)))\n"
     ]
    }
   ],
   "source": [
    "//imprimir el resultado\n",
    "println(\"mayor: \",mayor.first())\n",
    "println(\"menor: \",menor.first())"
   ]
  },
  {
   "cell_type": "markdown",
   "metadata": {},
   "source": [
    "## Consulta 4: Que publisher produce mas juegos?"
   ]
  },
  {
   "cell_type": "code",
   "execution_count": 8,
   "metadata": {},
   "outputs": [
    {
     "data": {
      "text/plain": [
       "consulta: org.apache.spark.rdd.RDD[(String, Int)] = ShuffledRDD[35] at reduceByKey at <console>:30\r\n",
       "mayor: org.apache.spark.rdd.RDD[(Int, String)] = ShuffledRDD[39] at sortByKey at <console>:32\r\n",
       "menor: org.apache.spark.rdd.RDD[(Int, String)] = ShuffledRDD[43] at sortByKey at <console>:34\n"
      ]
     },
     "execution_count": 8,
     "metadata": {},
     "output_type": "execute_result"
    }
   ],
   "source": [
    "val consulta = bd.map(s=>(s.split(\",\")(0))).map(word=>(word,1)).reduceByKey(_+_)\n",
    "//MAYOR CANTIDAD DE PRODUCTO?\n",
    "val mayor = consulta.map(item =>item.swap).sortByKey(false)\n",
    "//MENOR CANTIDAD DE PRODUCTO?\n",
    "val menor = consulta.map(item =>item.swap).sortByKey()"
   ]
  },
  {
   "cell_type": "markdown",
   "metadata": {},
   "source": [
    "### Imprimir Resultado"
   ]
  },
  {
   "cell_type": "code",
   "execution_count": 9,
   "metadata": {},
   "outputs": [
    {
     "name": "stdout",
     "output_type": "stream",
     "text": [
      "(mayor cantidad de producto: ,(1169,PS2))\n",
      "(menor cantidad de producto: ,(14,DC))\n"
     ]
    }
   ],
   "source": [
    "//imprimir el resultado\n",
    "println(\"mayor cantidad de producto: \",mayor.first())\n",
    "println(\"menor cantidad de producto: \",menor.first())"
   ]
  },
  {
   "cell_type": "markdown",
   "metadata": {},
   "source": [
    "## Consulta 5: Promedio de ventas generales por publisher"
   ]
  },
  {
   "cell_type": "code",
   "execution_count": 10,
   "metadata": {},
   "outputs": [
    {
     "data": {
      "text/plain": [
       "venta: org.apache.spark.rdd.RDD[(String, (Double, Int))] = ShuffledRDD[45] at reduceByKey at <console>:28\r\n",
       "promedio: org.apache.spark.rdd.RDD[(Double, String)] = ShuffledRDD[49] at sortByKey at <console>:35\r\n",
       "showventa: org.apache.spark.rdd.RDD[((Double, Int), String)] = ShuffledRDD[53] at sortByKey at <console>:38\n"
      ]
     },
     "execution_count": 10,
     "metadata": {},
     "output_type": "execute_result"
    }
   ],
   "source": [
    "val venta = bd.map(s=>(s.split(\",\")(2),(s.split(\",\")(7).toDouble,1))).reduceByKey {\n",
    "  case ((x1, y1), (x2, y2)) => (x1 + x2, y1 + y2)\n",
    "}\n",
    "\n",
    "//PROMEDIO DE VENTAS DE LOS PUBLISHER\n",
    "val promedio = venta.map({\n",
    "    case(publisher,(venta,total)) => (venta/total,publisher)\n",
    "}).sortByKey(false)\n",
    "\n",
    "//\n",
    "val showventa = venta.map(item =>item.swap).sortByKey(false)"
   ]
  },
  {
   "cell_type": "markdown",
   "metadata": {},
   "source": [
    "### Imprimir Resultado"
   ]
  },
  {
   "cell_type": "code",
   "execution_count": 14,
   "metadata": {},
   "outputs": [
    {
     "name": "stdout",
     "output_type": "stream",
     "text": [
      "PROMEDIO DE VENTAS DE LOS PUBLISHER\n",
      "(2.8936241610738263,Nintendo)\n",
      "(2.8333333333333335,GT Interactive)\n",
      "(2.7644444444444445,SquareSoft)\n",
      "(2.17,RedOctane)\n",
      "(1.75,Hello Games)\n",
      "(1.7,Valve)\n",
      "(1.537272727272727,Sony Computer Entertainment Europe)\n",
      "(1.512068965517242,Microsoft Game Studios)\n",
      "(1.4678000000000007,Bethesda Softworks)\n",
      "(1.43,Hasbro Interactive)\n",
      "(1.2614539007092207,Take-Two Interactive)\n",
      "(1.24,RTL)\n",
      "(1.2207407407407398,Sony Computer Entertainment)\n",
      "(1.2,Black Label Games)\n",
      "(1.12,Russel)\n",
      "(1.0743835616438362,Activision)\n",
      "(1.0450704225352114,LucasArts)\n",
      "(1.0331578947368423,Virgin Interactive)\n",
      "(0.9529411764705884,MTV Games)\n",
      "(0.9249433573635429,Electronic Arts)\n",
      "(0.88,Mindscape)\n",
      "(0.87,TalonSoft)\n",
      "(0.8496478873239437,Warner Bros. Interactive Entertainment)\n",
      "(0.8290000000000001,Universal Interactive)\n",
      "(0.81,Gotham Games)\n"
     ]
    }
   ],
   "source": [
    "//imprimir el resultado\n",
    "//println(\"promedio de venta para Nintendo: \",mayor.first())\n",
    "//println(\"venta\")\n",
    "//showventa.take(10).foreach(println)\n",
    "println(\"PROMEDIO DE VENTAS DE LOS PUBLISHER\")\n",
    "promedio.take(25).foreach(println)"
   ]
  }
 ],
 "metadata": {
  "kernelspec": {
   "display_name": "spylon-kernel",
   "language": "scala",
   "name": "spylon-kernel"
  },
  "language_info": {
   "codemirror_mode": "text/x-scala",
   "file_extension": ".scala",
   "help_links": [
    {
     "text": "MetaKernel Magics",
     "url": "https://metakernel.readthedocs.io/en/latest/source/README.html"
    }
   ],
   "mimetype": "text/x-scala",
   "name": "scala",
   "pygments_lexer": "scala",
   "version": "0.4.1"
  }
 },
 "nbformat": 4,
 "nbformat_minor": 4
}
