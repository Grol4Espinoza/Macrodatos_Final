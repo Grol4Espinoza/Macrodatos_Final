{
 "cells": [
  {
   "cell_type": "markdown",
   "metadata": {},
   "source": [
    "# Lectura de Base de datos"
   ]
  },
  {
   "cell_type": "code",
   "execution_count": 5,
   "metadata": {},
   "outputs": [
    {
     "data": {
      "text/plain": [
       "bdjuego: org.apache.spark.rdd.RDD[String] = dato.csv MapPartitionsRDD[14] at textFile at <console>:28\r\n",
       "bd: org.apache.spark.rdd.RDD[String] = MapPartitionsRDD[15] at mapPartitionsWithIndex at <console>:30\n"
      ]
     },
     "execution_count": 5,
     "metadata": {},
     "output_type": "execute_result"
    }
   ],
   "source": [
    "//leer archivo\n",
    "val bdjuego = sc.textFile(\"dato.csv\")\n",
    "//quitar cabecera\n",
    "val bd = bdjuego.mapPartitionsWithIndex{(idx,iter)=>if(idx==0) iter.drop(1) else iter}"
   ]
  },
  {
   "cell_type": "markdown",
   "metadata": {},
   "source": [
    "## Consulta 1: Que compañia vendio mas y menos?"
   ]
  },
  {
   "cell_type": "code",
   "execution_count": 6,
   "metadata": {},
   "outputs": [
    {
     "data": {
      "text/plain": [
       "consulta: org.apache.spark.rdd.RDD[(String, Double)] = ShuffledRDD[17] at reduceByKey at <console>:30\r\n",
       "mayor: org.apache.spark.rdd.RDD[(Double, String)] = ShuffledRDD[21] at sortByKey at <console>:32\r\n",
       "menor: org.apache.spark.rdd.RDD[(Double, String)] = ShuffledRDD[25] at sortByKey at <console>:34\n"
      ]
     },
     "execution_count": 6,
     "metadata": {},
     "output_type": "execute_result"
    }
   ],
   "source": [
    "val consulta = bd.map(s=>(s.split(\",\")(0),s.split(\",\")(7).toDouble)).reduceByKey(_+_)\n",
    "//QUE COMPAÑIA VENDIO MAS?\n",
    "val mayor = consulta.map(item =>item.swap).sortByKey(false)\n",
    "//QUE COMPAÑIA VENDIO MENOS?\n",
    "val menor = consulta.map(item =>item.swap).sortByKey()"
   ]
  },
  {
   "cell_type": "markdown",
   "metadata": {},
   "source": [
    "### Imprimir Resultado"
   ]
  },
  {
   "cell_type": "code",
   "execution_count": 7,
   "metadata": {},
   "outputs": [
    {
     "name": "stdout",
     "output_type": "stream",
     "text": [
      "(mayor: ,(965.9099999999996,PS2))\n",
      "(menor: ,(4.55,DC))\n"
     ]
    }
   ],
   "source": [
    "//imprimir el resultado\n",
    "println(\"mayor: \",mayor.first())\n",
    "println(\"menor: \",menor.first())"
   ]
  },
  {
   "cell_type": "markdown",
   "metadata": {},
   "source": [
    "## Consulta 2: Que tipo de producto se produce mas y menos?"
   ]
  },
  {
   "cell_type": "code",
   "execution_count": 8,
   "metadata": {},
   "outputs": [
    {
     "data": {
      "text/plain": [
       "consulta: org.apache.spark.rdd.RDD[((String, String, String, String, String), Int)] = ShuffledRDD[28] at reduceByKey at <console>:30\r\n",
       "mayor: org.apache.spark.rdd.RDD[(Int, (String, String, String, String, String))] = ShuffledRDD[32] at sortByKey at <console>:32\r\n",
       "menor: org.apache.spark.rdd.RDD[(Int, (String, String, String, String, String))] = ShuffledRDD[36] at sortByKey at <console>:34\n"
      ]
     },
     "execution_count": 8,
     "metadata": {},
     "output_type": "execute_result"
    }
   ],
   "source": [
    "val consulta = bd.map(s=>(s.split(\",\")(0),s.split(\",\")(1),s.split(\",\")(2),s.split(\",\")(8),s.split(\",\")(9))).map(word=>(word,1)).reduceByKey(_+_)\n",
    "//QUE TIPO DE PRODUCTO SE PRODUCE MAS?\n",
    "val mayor = consulta.map(item =>item.swap).sortByKey(false)\n",
    "//QUE TIPO DE PRODUCTO SE PRODUCE MENOS?\n",
    "val menor = consulta.map(item =>item.swap).sortByKey()"
   ]
  },
  {
   "cell_type": "markdown",
   "metadata": {},
   "source": [
    "### Imprimir Resultado"
   ]
  },
  {
   "cell_type": "code",
   "execution_count": 9,
   "metadata": {},
   "outputs": [
    {
     "name": "stdout",
     "output_type": "stream",
     "text": [
      "(mayor: ,(44,(PS2,Sports,Electronic Arts,E,Excelente)))\n",
      "(menor: ,(1,(PS2,Misc,Take-Two Interactive,T,Aceptable)))\n"
     ]
    }
   ],
   "source": [
    "//imprimir el resultado\n",
    "println(\"mayor: \",mayor.first())\n",
    "println(\"menor: \",menor.first())"
   ]
  },
  {
   "cell_type": "markdown",
   "metadata": {},
   "source": [
    "## Consulta 3: Que producto vendio mas y menos?"
   ]
  },
  {
   "cell_type": "code",
   "execution_count": 10,
   "metadata": {},
   "outputs": [
    {
     "data": {
      "text/plain": [
       "consulta: org.apache.spark.rdd.RDD[((String, String, String, String, String), Double)] = MapPartitionsRDD[37] at map at <console>:30\r\n",
       "mayor: org.apache.spark.rdd.RDD[(Double, (String, String, String, String, String))] = ShuffledRDD[41] at sortByKey at <console>:32\r\n",
       "menor: org.apache.spark.rdd.RDD[(Double, (String, String, String, String, String))] = ShuffledRDD[45] at sortByKey at <console>:34\n"
      ]
     },
     "execution_count": 10,
     "metadata": {},
     "output_type": "execute_result"
    }
   ],
   "source": [
    "val consulta = bd.map(s=>((s.split(\",\")(0),s.split(\",\")(1),s.split(\",\")(2),s.split(\",\")(8),s.split(\",\")(9)),s.split(\",\")(7).toDouble))\n",
    "//QUE PRODUCTO VENDIO MAS?\n",
    "val mayor = consulta.map(item =>item.swap).sortByKey(false)\n",
    "//QUE PRODUCTO VENDIO MENOS?\n",
    "val menor = consulta.map(item =>item.swap).sortByKey()"
   ]
  },
  {
   "cell_type": "markdown",
   "metadata": {},
   "source": [
    "### Imprimir Resultado"
   ]
  },
  {
   "cell_type": "code",
   "execution_count": 11,
   "metadata": {},
   "outputs": [
    {
     "name": "stdout",
     "output_type": "stream",
     "text": [
      "(mayor: ,(82.54,(Wii,Sports,Nintendo,E,Bueno)))\n",
      "(menor: ,(0.0,(GBA,Simulation,Destination Software,0.05,T)))\n"
     ]
    }
   ],
   "source": [
    "//imprimir el resultado\n",
    "println(\"mayor: \",mayor.first())\n",
    "println(\"menor: \",menor.first())"
   ]
  },
  {
   "cell_type": "markdown",
   "metadata": {},
   "source": [
    "## Consulta 4: Que publisher produce mas juegos?"
   ]
  },
  {
   "cell_type": "code",
   "execution_count": 12,
   "metadata": {},
   "outputs": [
    {
     "data": {
      "text/plain": [
       "consulta: org.apache.spark.rdd.RDD[(String, Int)] = ShuffledRDD[48] at reduceByKey at <console>:30\r\n",
       "mayor: org.apache.spark.rdd.RDD[(Int, String)] = ShuffledRDD[52] at sortByKey at <console>:32\r\n",
       "menor: org.apache.spark.rdd.RDD[(Int, String)] = ShuffledRDD[56] at sortByKey at <console>:34\n"
      ]
     },
     "execution_count": 12,
     "metadata": {},
     "output_type": "execute_result"
    }
   ],
   "source": [
    "val consulta = bd.map(s=>(s.split(\",\")(0))).map(word=>(word,1)).reduceByKey(_+_)\n",
    "//MAYOR CANTIDAD DE PRODUCTO?\n",
    "val mayor = consulta.map(item =>item.swap).sortByKey(false)\n",
    "//MENOR CANTIDAD DE PRODUCTO?\n",
    "val menor = consulta.map(item =>item.swap).sortByKey()"
   ]
  },
  {
   "cell_type": "markdown",
   "metadata": {},
   "source": [
    "### Imprimir Resultado"
   ]
  },
  {
   "cell_type": "code",
   "execution_count": 13,
   "metadata": {},
   "outputs": [
    {
     "name": "stdout",
     "output_type": "stream",
     "text": [
      "(mayor cantidad de producto: ,(1169,PS2))\n",
      "(menor cantidad de producto: ,(14,DC))\n"
     ]
    }
   ],
   "source": [
    "//imprimir el resultado\n",
    "println(\"mayor cantidad de producto: \",mayor.first())\n",
    "println(\"menor cantidad de producto: \",menor.first())"
   ]
  },
  {
   "cell_type": "markdown",
   "metadata": {},
   "source": [
    "## Consulta 5: Promedio de ventas generales por publisher"
   ]
  },
  {
   "cell_type": "code",
   "execution_count": 14,
   "metadata": {},
   "outputs": [
    {
     "data": {
      "text/plain": [
       "venta: org.apache.spark.rdd.RDD[(String, (Double, Int))] = ShuffledRDD[58] at reduceByKey at <console>:28\r\n",
       "promedio: org.apache.spark.rdd.RDD[(Double, String)] = ShuffledRDD[62] at sortByKey at <console>:35\r\n",
       "showventa: org.apache.spark.rdd.RDD[((Double, Int), String)] = ShuffledRDD[66] at sortByKey at <console>:38\n"
      ]
     },
     "execution_count": 14,
     "metadata": {},
     "output_type": "execute_result"
    }
   ],
   "source": [
    "val venta = bd.map(s=>(s.split(\",\")(2),(s.split(\",\")(7).toDouble,1))).reduceByKey {\n",
    "  case ((x1, y1), (x2, y2)) => (x1 + x2, y1 + y2)\n",
    "}\n",
    "\n",
    "//PROMEDIO DE VENTAS DE LOS PUBLISHER\n",
    "val promedio = venta.map({\n",
    "    case(publisher,(venta,total)) => (venta/total,publisher)\n",
    "}).sortByKey(false)\n",
    "\n",
    "//\n",
    "val showventa = venta.map(item =>item.swap).sortByKey(false)"
   ]
  },
  {
   "cell_type": "markdown",
   "metadata": {},
   "source": [
    "### Imprimir Resultado"
   ]
  },
  {
   "cell_type": "code",
   "execution_count": 15,
   "metadata": {},
   "outputs": [
    {
     "name": "stdout",
     "output_type": "stream",
     "text": [
      "PROMEDIO DE VENTAS DE LOS PUBLISHER\n",
      "(2.8936241610738263,Nintendo)\n",
      "(2.8333333333333335,GT Interactive)\n",
      "(2.7644444444444445,SquareSoft)\n",
      "(2.17,RedOctane)\n",
      "(1.75,Hello Games)\n",
      "(1.7,Valve)\n",
      "(1.537272727272727,Sony Computer Entertainment Europe)\n",
      "(1.512068965517242,Microsoft Game Studios)\n",
      "(1.4678000000000007,Bethesda Softworks)\n",
      "(1.43,Hasbro Interactive)\n",
      "(1.2614539007092207,Take-Two Interactive)\n",
      "(1.24,RTL)\n",
      "(1.2207407407407398,Sony Computer Entertainment)\n",
      "(1.2,Black Label Games)\n",
      "(1.12,Russel)\n",
      "(1.0743835616438362,Activision)\n",
      "(1.0450704225352114,LucasArts)\n",
      "(1.0331578947368423,Virgin Interactive)\n",
      "(0.9529411764705884,MTV Games)\n",
      "(0.9249433573635429,Electronic Arts)\n",
      "(0.88,Mindscape)\n",
      "(0.87,TalonSoft)\n",
      "(0.8496478873239437,Warner Bros. Interactive Entertainment)\n",
      "(0.8290000000000001,Universal Interactive)\n",
      "(0.81,Gotham Games)\n",
      "(0.8038732394366198,Square Enix)\n",
      "(0.8024999999999999,Valve Software)\n",
      "(0.8,Square EA)\n",
      "(0.8,Level 5)\n",
      "(0.7,Illusion Softworks)\n",
      "(0.6747868217054263,Ubisoft)\n",
      "(0.58,Monster Games)\n",
      "(0.5725,Tomy Corporation)\n",
      "(0.5654634146341462,Capcom)\n",
      "(0.553657587548638,Konami Digital Entertainment)\n",
      "(0.5298666666666669,Disney Interactive Studios)\n",
      "(0.5260063897763578,THQ)\n",
      "(0.52,Square)\n",
      "(0.5166666666666666,Slightly Mad Studios)\n",
      "(0.516,NCSoft)\n",
      "(0.5085906040268453,Sega)\n",
      "(0.5,ASCII Entertainment)\n",
      "(0.49419753086419743,Namco Bandai Games)\n",
      "(0.49285714285714294,Sony Online Entertainment)\n",
      "(0.47000000000000003,Harmonix Music Systems)\n",
      "(0.47,Activision Blizzard)\n",
      "(0.46799999999999997,Infogrames)\n",
      "(0.45967391304347816,Atari)\n",
      "(0.4525,Trion Worlds)\n",
      "(0.45,Kadokawa Shoten)\n",
      "(0.4466666666666667,Zoo Games)\n",
      "(0.43,Tetris Online)\n",
      "(0.42,En Masse Entertainment)\n",
      "(0.42,Sony Computer Entertainment America)\n",
      "(0.419099099099099,Midway Games)\n",
      "(0.4,NovaLogic)\n",
      "(0.39000000000000007,Mastertronic)\n",
      "(0.39,Touchstone)\n",
      "(0.3833333333333333,Genki)\n",
      "(0.38,Enix Corporation)\n",
      "(0.38,Play It)\n",
      "(0.37440944881889776,Eidos Interactive)\n",
      "(0.3737288135593221,Vivendi Games)\n",
      "(0.3709195402298851,505 Games)\n",
      "(0.365,Gamebridge)\n",
      "(0.36333333333333334,City Interactive)\n",
      "(0.35875,Spike)\n",
      "(0.35500000000000004,Ubisoft Annecy)\n",
      "(0.34500000000000003,Marvelous Entertainment)\n",
      "(0.33499999999999996,Xplosiv)\n",
      "(0.33,Psygnosis)\n",
      "(0.31,Home Entertainment Suppliers)\n",
      "(0.30347826086956514,TDK Mediactive)\n",
      "(0.3025,Rage Software)\n",
      "(0.3016521739130434,Codemasters)\n",
      "(0.30057142857142854,Acclaim Entertainment)\n",
      "(0.2972727272727273,Crave Entertainment)\n",
      "(0.29,Wargaming.net)\n",
      "(0.28250000000000003,Global Star)\n",
      "(0.26037037037037036,Atlus)\n",
      "(0.26,Pacific Century Cyber Works)\n",
      "(0.25974358974358974,Deep Silver)\n",
      "(0.25625000000000003,Interplay)\n",
      "(0.25321428571428567,Empire Interactive)\n",
      "(0.2456,SouthPeak Games)\n",
      "(0.245,Rebellion)\n",
      "(0.244,Titus)\n",
      "(0.242,Game Factory)\n",
      "(0.2418571428571429,Tecmo Koei)\n",
      "(0.24,Nihon Falcom Corporation)\n",
      "(0.23399999999999999,Ghostlight)\n",
      "(0.23,Sierra Entertainment)\n",
      "(0.22749999999999998,Xseed Games)\n",
      "(0.2269444444444444,D3Publisher)\n",
      "(0.22333333333333336,Rondomedia)\n",
      "(0.2214814814814815,Rising Star Games)\n",
      "(0.22,Jester Interactive)\n",
      "(0.21333333333333335,System 3 Arcade Software)\n",
      "(0.21090909090909093,SCi)\n",
      "(0.21,Zushi Games)\n",
      "(0.20750000000000002,Metro 3D)\n",
      "(0.2075,Takara Tomy)\n",
      "(0.20333333333333337,Natsume)\n",
      "(0.2025,Screenlife)\n",
      "(0.19416666666666668,Zoo Digital Publishing)\n",
      "(0.194,Koch Media)\n",
      "(0.19,AQ Interactive)\n",
      "(0.19,Media Rings)\n",
      "(0.18777777777777777,Marvelous Interactive)\n",
      "(0.18700000000000003,BAM! Entertainment)\n",
      "(0.17833333333333332,GungHo)\n",
      "(0.175,NaturalMotion)\n",
      "(0.17306451612903223,Nippon Ichi Software)\n",
      "(0.16999999999999998,Black Bean Games)\n",
      "(0.16533333333333333,3DO)\n",
      "(0.1625,Midas Interactive Entertainment)\n",
      "(0.16228571428571423,Focus Home Interactive)\n",
      "(0.16,CCP)\n",
      "(0.16,System 3)\n",
      "(0.16,Gust)\n",
      "(0.16,7Sixty LLC)\n",
      "(0.16,Fox Interactive)\n",
      "(0.16,Scholastic Inc.)\n",
      "(0.155,Oxygen Interactive)\n",
      "(0.1539130434782609,PQube)\n",
      "(0.15,White Park Bay Software)\n",
      "(0.15,NIS America)\n",
      "(0.15,506 Games)\n",
      "(0.15,Sammy Corporation)\n",
      "(0.1493548387096774,Ignition Entertainment)\n",
      "(0.145,Agetec)\n",
      "(0.14,Acquire)\n",
      "(0.14,Havas Interactive)\n",
      "(0.14,EA Games)\n",
      "(0.13799999999999998,Telltale Games)\n",
      "(0.1375,Milestone S.r.l.)\n",
      "(0.1375,Hudson Soft)\n",
      "(0.135,Activision Value)\n",
      "(0.135,Mad Catz)\n",
      "(0.13333333333333333,Falcom Corporation)\n",
      "(0.13,Funsta)\n",
      "(0.13,Compile Heart)\n",
      "(0.12916666666666668,Majesco Entertainment)\n",
      "(0.128,Wanadoo)\n",
      "(0.125,Tripwire Interactive)\n",
      "(0.125,XS Games)\n",
      "(0.12333333333333334,FuRyu)\n",
      "(0.12000000000000002,Banpresto)\n",
      "(0.12000000000000001,Human Entertainment)\n",
      "(0.12,Brash Entertainment)\n",
      "(0.12,Moss)\n",
      "(0.12,NDA Productions)\n",
      "(0.11888888888888889,PopCap Games)\n",
      "(0.115,Agatsuma Entertainment)\n",
      "(0.11,Aqua Plus)\n",
      "(0.11,inXile Entertainment)\n",
      "(0.11,Bohemia Interactive)\n",
      "(0.11,O-Games)\n",
      "(0.10875000000000001,Gathering of Developers)\n",
      "(0.10666666666666667,Indie Games)\n",
      "(0.1,Phantom EFX)\n",
      "(0.1,Funcom)\n",
      "(0.1,Valcon Games)\n",
      "(0.1,HMH Interactive)\n",
      "(0.1,Ackkstudios)\n",
      "(0.1,Cave)\n",
      "(0.09846153846153848,DTP Entertainment)\n",
      "(0.09666666666666668,Swing! Entertainment)\n",
      "(0.096,Playlogic Game Factory)\n",
      "(0.09499999999999999,Sting)\n",
      "(0.09240000000000002,Kalypso Media)\n",
      "(0.09142857142857143,Kemco)\n",
      "(0.09000000000000001,Destineer)\n",
      "(0.09,O3 Entertainment)\n",
      "(0.09,Sunsoft)\n",
      "(0.09,Yacht Club Games)\n",
      "(0.08666666666666667,Enterbrain)\n",
      "(0.08066666666666668,Unknown)\n",
      "(0.08,Dusenberry Martin Racing)\n",
      "(0.08,Popcorn Arcade)\n",
      "(0.08,Telegames)\n",
      "(0.08,DSI Games)\n",
      "(0.08,Idea Factory International)\n",
      "(0.0775,Mastiff)\n",
      "(0.07666666666666667,The Adventure Company)\n",
      "(0.07666666666666667,Insomniac Games)\n",
      "(0.07666666666666666,From Software)\n",
      "(0.075,Arc System Works)\n",
      "(0.07333333333333333,Little Orbit)\n",
      "(0.07,Myelin Media)\n",
      "(0.07,Reef Entertainment)\n",
      "(0.07,Rebellion Developments)\n",
      "(0.07,SNK)\n",
      "(0.07,Irem Software Engineering)\n",
      "(0.065,Tru Blu Entertainment)\n",
      "(0.06400000000000002,JoWood Productions)\n",
      "(0.06400000000000002,Hip Interactive)\n",
      "(0.06,PM Studios)\n",
      "(0.06,Mercury Games)\n",
      "(0.06,Aksys Games)\n",
      "(0.06,Funbox Media)\n",
      "(0.06,Hudson Entertainment)\n",
      "(0.06,Groove Games)\n",
      "(0.05714285714285715,Jaleco)\n",
      "(0.05666666666666667,Idea Factory)\n",
      "(0.05666666666666667,Taito)\n",
      "(0.055,Aspyr)\n",
      "(0.05399999999999999,Bigben Interactive)\n",
      "(0.05333333333333334,Nobilis)\n",
      "(0.05333333333333334,Avalon Interactive)\n",
      "(0.051000000000000004,Nordic Games)\n",
      "(0.05,Gaslamp Games)\n",
      "(0.05,Max Five)\n",
      "(0.05,ESP)\n",
      "(0.05,Conspiracy Entertainment)\n",
      "(0.05,Ascaron Entertainment GmbH)\n",
      "(0.05,Phantagram)\n",
      "(0.05,Navarre Corp)\n",
      "(0.048571428571428585,Microids)\n",
      "(0.047499999999999994,Gamecock)\n",
      "(0.045000000000000005,Revolution Software)\n",
      "(0.045,Graffiti)\n",
      "(0.044,Success)\n",
      "(0.04,Alternative Software)\n",
      "(0.04,Evolved Games)\n",
      "(0.04,2D Boy)\n",
      "(0.04,Cloud Imperium Games Corporation)\n",
      "(0.04,Monte Christo Multimedia)\n",
      "(0.04,Devolver Digital)\n",
      "(0.04,Kool Kizz)\n",
      "(0.04,5p)\n",
      "(0.04,DHM Interactive)\n",
      "(0.04,Flashpoint Games)\n",
      "(0.04,Introversion Software)\n",
      "(0.034999999999999996,1C Company)\n",
      "(0.032222222222222235,Paradox Interactive)\n",
      "(0.03166666666666666,DreamCatcher Interactive)\n",
      "(0.030000000000000002,Sold Out)\n",
      "(0.030000000000000002,Team17 Software)\n",
      "(0.030000000000000002,FuRyu Corporation)\n",
      "(0.030000000000000002,Gearbox Software)\n",
      "(0.03,TopWare Interactive)\n",
      "(0.03,Pinnacle)\n",
      "(0.03,bitComposer Games)\n",
      "(0.03,Maxis)\n",
      "(0.03,Global A Entertainment)\n",
      "(0.03,Lexicon Entertainment)\n",
      "(0.03,id Software)\n",
      "(0.03,Sunflowers)\n",
      "(0.03,Just Flight)\n",
      "(0.03,Strategy First)\n",
      "(0.03,Xicat Interactive)\n",
      "(0.03,Number None)\n",
      "(0.02666666666666667,MC2 Entertainment)\n",
      "(0.025,Iceberg Interactive)\n",
      "(0.025,Stainless Games)\n",
      "(0.02,Avanquest)\n",
      "(0.02,Visco)\n",
      "(0.02,Crimson Cow)\n",
      "(0.02,Codemasters Online)\n",
      "(0.02,10TACLE Studios)\n",
      "(0.02,Graphsim Entertainment)\n",
      "(0.02,GOA)\n",
      "(0.019999999999999997,Milestone S.r.l)\n",
      "(0.01,Team Meat)\n",
      "(0.01,NewKidCo)\n",
      "(0.01,Digital Jesters)\n",
      "(0.01,THQ Nordic)\n",
      "(0.01,Blue Byte)\n",
      "(0.01,Lighthouse Interactive)\n",
      "(0.01,G.Rev)\n",
      "(0.01,CDV Software Entertainment)\n",
      "(0.01,Encore)\n",
      "(0.01,P2 Games)\n",
      "(0.01,Oovee Game Studios)\n",
      "(0.01,Her Interactive)\n",
      "(0.01,Milkstone Studios)\n",
      "(0.0,Destination Software)\n"
     ]
    }
   ],
   "source": [
    "//imprimir el resultado\n",
    "//println(\"promedio de venta para Nintendo: \",mayor.first())\n",
    "//println(\"venta\")\n",
    "//showventa.take(10).foreach(println)\n",
    "println(\"PROMEDIO DE VENTAS DE LOS PUBLISHER\")\n",
    "promedio.collect().foreach(println)"
   ]
  }
 ],
 "metadata": {
  "kernelspec": {
   "display_name": "spylon-kernel",
   "language": "scala",
   "name": "spylon-kernel"
  },
  "language_info": {
   "codemirror_mode": "text/x-scala",
   "file_extension": ".scala",
   "help_links": [
    {
     "text": "MetaKernel Magics",
     "url": "https://metakernel.readthedocs.io/en/latest/source/README.html"
    }
   ],
   "mimetype": "text/x-scala",
   "name": "scala",
   "pygments_lexer": "scala",
   "version": "0.4.1"
  }
 },
 "nbformat": 4,
 "nbformat_minor": 4
}
