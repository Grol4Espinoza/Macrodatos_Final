{
 "cells": [
  {
   "cell_type": "markdown",
   "metadata": {},
   "source": [
    "## Imports"
   ]
  },
  {
   "cell_type": "code",
   "execution_count": 1,
   "metadata": {},
   "outputs": [
    {
     "data": {
      "text/plain": [
       "Intitializing Scala interpreter ..."
      ]
     },
     "metadata": {},
     "output_type": "display_data"
    },
    {
     "data": {
      "text/plain": [
       "Spark Web UI available at http://DESKTOP-LBH4NFU:4040\n",
       "SparkContext available as 'sc' (version = 2.3.0, master = local[*], app id = local-1613698216372)\n",
       "SparkSession available as 'spark'\n"
      ]
     },
     "metadata": {},
     "output_type": "display_data"
    },
    {
     "data": {
      "text/plain": [
       "import org.apache.spark.sql.types._\r\n",
       "import spark.implicits._\r\n",
       "import org.apache.spark.ml.clustering.{KMeans, KMeansModel}\r\n",
       "import org.apache.spark.ml.feature.VectorAssembler\r\n",
       "import org.apache.spark.ml.linalg.{Vectors, Vector}\n"
      ]
     },
     "execution_count": 1,
     "metadata": {},
     "output_type": "execute_result"
    }
   ],
   "source": [
    "import org.apache.spark.sql.types._\n",
    "import spark.implicits._ \n",
    "import org.apache.spark.ml.clustering.{KMeans, KMeansModel}\n",
    "import org.apache.spark.ml.feature.VectorAssembler\n",
    "import org.apache.spark.ml.linalg.{Vectors, Vector}"
   ]
  },
  {
   "cell_type": "markdown",
   "metadata": {},
   "source": [
    "## Esquema de la base"
   ]
  },
  {
   "cell_type": "code",
   "execution_count": 2,
   "metadata": {},
   "outputs": [
    {
     "data": {
      "text/plain": [
       "schema: org.apache.spark.sql.types.StructType = StructType(StructField(Platform,StringType,true), StructField(Genre,StringType,true), StructField(Publisher,StringType,true), StructField(NA_Sales,DoubleType,true), StructField(EU_Sales,DoubleType,true), StructField(JP_Sales,DoubleType,true), StructField(Other_Sales,DoubleType,true), StructField(Global_Sales,DoubleType,true), StructField(Rating,StringType,true), StructField(Critic_Score_Class,StringType,true))\n"
      ]
     },
     "execution_count": 2,
     "metadata": {},
     "output_type": "execute_result"
    }
   ],
   "source": [
    "val schema = StructType(\n",
    "  StructField(\"Platform\", StringType, nullable = true) ::\n",
    "    StructField(\"Genre\", StringType, nullable = true) ::\n",
    "    StructField(\"Publisher\", StringType, nullable = true) ::\n",
    "    StructField(\"NA_Sales\", DoubleType, nullable = true) ::\n",
    "    StructField(\"EU_Sales\", DoubleType, nullable = true) ::\n",
    "    StructField(\"JP_Sales\", DoubleType, nullable = true) ::\n",
    "    StructField(\"Other_Sales\", DoubleType, nullable = true) ::\n",
    "    StructField(\"Global_Sales\", DoubleType, nullable = true) ::\n",
    "    StructField(\"Rating\", StringType, nullable = true) ::    \n",
    "    StructField(\"Critic_Score_Class\", StringType, nullable = true) ::\n",
    "    Nil\n",
    ")"
   ]
  },
  {
   "cell_type": "markdown",
   "metadata": {},
   "source": [
    "## Leer la data y mostrar los primeros 10 elementos"
   ]
  },
  {
   "cell_type": "code",
   "execution_count": 3,
   "metadata": {},
   "outputs": [
    {
     "name": "stdout",
     "output_type": "stream",
     "text": [
      "root\n",
      " |-- Platform: string (nullable = true)\n",
      " |-- Genre: string (nullable = true)\n",
      " |-- Publisher: string (nullable = true)\n",
      " |-- NA_Sales: double (nullable = true)\n",
      " |-- EU_Sales: double (nullable = true)\n",
      " |-- JP_Sales: double (nullable = true)\n",
      " |-- Other_Sales: double (nullable = true)\n",
      " |-- Global_Sales: double (nullable = true)\n",
      " |-- Rating: string (nullable = true)\n",
      " |-- Critic_Score_Class: string (nullable = true)\n",
      "\n",
      "+--------+--------+--------------------+--------+--------+--------+-----------+------------+------+------------------+\n",
      "|Platform|   Genre|           Publisher|NA_Sales|EU_Sales|JP_Sales|Other_Sales|Global_Sales|Rating|Critic_Score_Class|\n",
      "+--------+--------+--------------------+--------+--------+--------+-----------+------------+------+------------------+\n",
      "|     Wii|  Sports|            Nintendo|   41.36|   28.96|    3.77|       8.45|       82.54|     E|             Bueno|\n",
      "|     Wii|  Racing|            Nintendo|   15.68|    12.8|    3.79|       3.29|       35.57|     E|         Excelente|\n",
      "|     Wii|  Sports|            Nintendo|   15.61|   10.95|    3.28|       2.95|       32.78|     E|         Excelente|\n",
      "|      DS|Platform|            Nintendo|   11.28|    9.15|     6.5|       2.88|       29.81|     E|         Excelente|\n",
      "|     Wii|    Misc|            Nintendo|   13.96|    9.18|    2.93|       2.84|       28.92|     E|              Malo|\n",
      "|     Wii|Platform|            Nintendo|   14.48|    6.95|     4.7|       2.25|       28.38|     E|         Excelente|\n",
      "|      DS|  Racing|            Nintendo|    9.71|    7.48|    4.13|        1.9|       23.22|     E|         Excelente|\n",
      "|     Wii|  Sports|            Nintendo|    8.92|    8.03|     3.6|       2.15|        22.7|     E|         Excelente|\n",
      "|    X360|    Misc|Microsoft Game St...|   15.02|    4.91|    0.24|       1.69|       21.86|     E|         Aceptable|\n",
      "|     Wii|  Sports|            Nintendo|    9.01|    8.49|    2.53|       1.77|       21.79|     E|         Excelente|\n",
      "+--------+--------+--------------------+--------+--------+--------+-----------+------------+------+------------------+\n",
      "only showing top 10 rows\n",
      "\n"
     ]
    },
    {
     "data": {
      "text/plain": [
       "videogameDf: org.apache.spark.sql.Dataset[org.apache.spark.sql.Row] = [Platform: string, Genre: string ... 8 more fields]\n"
      ]
     },
     "execution_count": 3,
     "metadata": {},
     "output_type": "execute_result"
    }
   ],
   "source": [
    "// read to DataFrame\n",
    "val videogameDf = spark.read.format(\"csv\").option(\"header\", value = true).option(\"delimiter\", \",\").option(\"mode\", \"DROPMALFORMED\").schema(schema).load(\"dato.csv\").cache()\n",
    "\n",
    "videogameDf.printSchema()\n",
    "videogameDf.show(10)"
   ]
  },
  {
   "cell_type": "markdown",
   "metadata": {},
   "source": [
    "## Agrupamos la data númerica en una sola columna llamada \"features\" o caracteristicas"
   ]
  },
  {
   "cell_type": "code",
   "execution_count": 4,
   "metadata": {},
   "outputs": [
    {
     "name": "stdout",
     "output_type": "stream",
     "text": [
      "root\n",
      " |-- Platform: string (nullable = true)\n",
      " |-- Genre: string (nullable = true)\n",
      " |-- Publisher: string (nullable = true)\n",
      " |-- NA_Sales: double (nullable = true)\n",
      " |-- EU_Sales: double (nullable = true)\n",
      " |-- JP_Sales: double (nullable = true)\n",
      " |-- Other_Sales: double (nullable = true)\n",
      " |-- Global_Sales: double (nullable = true)\n",
      " |-- Rating: string (nullable = true)\n",
      " |-- Critic_Score_Class: string (nullable = true)\n",
      " |-- features: vector (nullable = true)\n",
      "\n",
      "+--------+--------+--------------------+--------+--------+--------+-----------+------------+------+------------------+--------------------+\n",
      "|Platform|   Genre|           Publisher|NA_Sales|EU_Sales|JP_Sales|Other_Sales|Global_Sales|Rating|Critic_Score_Class|            features|\n",
      "+--------+--------+--------------------+--------+--------+--------+-----------+------------+------+------------------+--------------------+\n",
      "|     Wii|  Sports|            Nintendo|   41.36|   28.96|    3.77|       8.45|       82.54|     E|             Bueno|[41.36,28.96,3.77...|\n",
      "|     Wii|  Racing|            Nintendo|   15.68|    12.8|    3.79|       3.29|       35.57|     E|         Excelente|[15.68,12.8,3.79,...|\n",
      "|     Wii|  Sports|            Nintendo|   15.61|   10.95|    3.28|       2.95|       32.78|     E|         Excelente|[15.61,10.95,3.28...|\n",
      "|      DS|Platform|            Nintendo|   11.28|    9.15|     6.5|       2.88|       29.81|     E|         Excelente|[11.28,9.15,6.5,2...|\n",
      "|     Wii|    Misc|            Nintendo|   13.96|    9.18|    2.93|       2.84|       28.92|     E|              Malo|[13.96,9.18,2.93,...|\n",
      "|     Wii|Platform|            Nintendo|   14.48|    6.95|     4.7|       2.25|       28.38|     E|         Excelente|[14.48,6.95,4.7,2...|\n",
      "|      DS|  Racing|            Nintendo|    9.71|    7.48|    4.13|        1.9|       23.22|     E|         Excelente|[9.71,7.48,4.13,1...|\n",
      "|     Wii|  Sports|            Nintendo|    8.92|    8.03|     3.6|       2.15|        22.7|     E|         Excelente|[8.92,8.03,3.6,2....|\n",
      "|    X360|    Misc|Microsoft Game St...|   15.02|    4.91|    0.24|       1.69|       21.86|     E|         Aceptable|[15.02,4.91,0.24,...|\n",
      "|     Wii|  Sports|            Nintendo|    9.01|    8.49|    2.53|       1.77|       21.79|     E|         Excelente|[9.01,8.49,2.53,1...|\n",
      "+--------+--------+--------------------+--------+--------+--------+-----------+------------+------+------------------+--------------------+\n",
      "only showing top 10 rows\n",
      "\n"
     ]
    },
    {
     "data": {
      "text/plain": [
       "cols: Array[String] = Array(NA_Sales, EU_Sales, JP_Sales, Other_Sales, Global_Sales)\r\n",
       "assembler: org.apache.spark.ml.feature.VectorAssembler = vecAssembler_e46338e18423\r\n",
       "featureDf: org.apache.spark.sql.DataFrame = [Platform: string, Genre: string ... 9 more fields]\n"
      ]
     },
     "execution_count": 4,
     "metadata": {},
     "output_type": "execute_result"
    }
   ],
   "source": [
    "//add feature col\n",
    "val cols = Array(\"NA_Sales\",\"EU_Sales\",\"JP_Sales\",\"Other_Sales\",\"Global_Sales\")\n",
    "val assembler = new VectorAssembler().setInputCols(cols).setOutputCol(\"features\")\n",
    "val featureDf = assembler.transform(videogameDf)\n",
    "\n",
    "featureDf.printSchema()\n",
    "featureDf.show(10)"
   ]
  },
  {
   "cell_type": "markdown",
   "metadata": {},
   "source": [
    "## Separamos la data en entrenamiento y validación"
   ]
  },
  {
   "cell_type": "code",
   "execution_count": 5,
   "metadata": {},
   "outputs": [
    {
     "data": {
      "text/plain": [
       "seed: Int = 1984\r\n",
       "trainingData: org.apache.spark.sql.Dataset[org.apache.spark.sql.Row] = [Platform: string, Genre: string ... 9 more fields]\r\n",
       "testData: org.apache.spark.sql.Dataset[org.apache.spark.sql.Row] = [Platform: string, Genre: string ... 9 more fields]\n"
      ]
     },
     "execution_count": 5,
     "metadata": {},
     "output_type": "execute_result"
    }
   ],
   "source": [
    "//dividir data en 70/30\n",
    "val seed = 1984\n",
    "val Array(trainingData, testData) = featureDf.randomSplit(Array(0.7, 0.3), seed)"
   ]
  },
  {
   "cell_type": "markdown",
   "metadata": {},
   "source": [
    "## Creamos un k-means 8-cluster"
   ]
  },
  {
   "cell_type": "code",
   "execution_count": 6,
   "metadata": {},
   "outputs": [
    {
     "name": "stdout",
     "output_type": "stream",
     "text": [
      "2021-02-18 20:30:33 WARN  BLAS:61 - Failed to load implementation from: com.github.fommil.netlib.NativeSystemBLAS\n",
      "2021-02-18 20:30:33 WARN  BLAS:61 - Failed to load implementation from: com.github.fommil.netlib.NativeRefBLAS\n"
     ]
    },
    {
     "data": {
      "text/plain": [
       "kmeans: org.apache.spark.ml.clustering.KMeans = kmeans_7dc66b0d1685\r\n",
       "kmeansModel: org.apache.spark.ml.clustering.KMeansModel = kmeans_7dc66b0d1685\n"
      ]
     },
     "execution_count": 6,
     "metadata": {},
     "output_type": "execute_result"
    }
   ],
   "source": [
    "//build kmeans 8 cluster\n",
    "\n",
    "val kmeans = new KMeans().setK(8).setFeaturesCol(\"features\").setPredictionCol(\"KMEANS-prediction\")\n",
    "\n",
    "val kmeansModel = kmeans.fit(trainingData)\n"
   ]
  },
  {
   "cell_type": "markdown",
   "metadata": {},
   "source": [
    "## Mostramos el resultado con los centros de cada cluster"
   ]
  },
  {
   "cell_type": "code",
   "execution_count": 7,
   "metadata": {},
   "outputs": [
    {
     "name": "stdout",
     "output_type": "stream",
     "text": [
      "\n",
      "|-------------|OUTPUT|-------------|\n",
      "\n",
      "[0.450556079170593,0.2610179076343072,0.06666352497643743,0.09262959472196029,0.8706032045240346]\n",
      "[12.805714285714288,9.22,4.132857142857143,2.6085714285714285,28.768571428571427]\n",
      "[0.10258953168044095,0.05160391796755466,0.016623813896541176,0.017594123048668475,0.18880624426078993]\n",
      "[1.8592638036809817,1.2741104294478531,0.32331288343558273,0.4439263803680982,3.9008588957055195]\n",
      "[41.36,28.96,3.77,8.45,82.54]\n",
      "[1.0717277486910994,0.5596858638743459,0.1575130890052356,0.21138743455497389,2.000549738219895]\n",
      "[5.861739130434783,3.87608695652174,0.9717391304347823,1.5504347826086957,12.259565217391303]\n",
      "[3.188085106382979,2.5721276595744675,0.7993617021276599,0.687872340425532,7.24723404255319]\n"
     ]
    }
   ],
   "source": [
    "println()\n",
    "println(\"|-------------|OUTPUT|-------------|\")\n",
    "println()\n",
    "kmeansModel.clusterCenters.foreach(println)"
   ]
  },
  {
   "cell_type": "markdown",
   "metadata": {},
   "source": [
    "## Testeamos la data sobre los datos de validación"
   ]
  },
  {
   "cell_type": "code",
   "execution_count": 8,
   "metadata": {},
   "outputs": [
    {
     "name": "stdout",
     "output_type": "stream",
     "text": [
      "\n",
      "|-------------|PREDICCIONES|-------------|\n",
      "\n",
      "+--------+---------+--------------------+--------+--------+--------+-----------+------------+------+------------------+--------------------+-----------------+\n",
      "|Platform|    Genre|           Publisher|NA_Sales|EU_Sales|JP_Sales|Other_Sales|Global_Sales|Rating|Critic_Score_Class|            features|KMEANS-prediction|\n",
      "+--------+---------+--------------------+--------+--------+--------+-----------+------------+------+------------------+--------------------+-----------------+\n",
      "|     3DS|   Action|          Activision|    0.08|    0.03|     0.0|       0.01|        0.12|     T|              Malo|[0.08,0.03,0.0,0....|                2|\n",
      "|     3DS|   Action|Disney Interactiv...|    0.29|    0.28|     0.0|       0.06|        0.62|  E10+|             Bueno|[0.29,0.28,0.0,0....|                0|\n",
      "|     3DS|   Action|     Electronic Arts|    0.09|    0.09|     0.0|       0.02|        0.19|  E10+|         Aceptable|[0.09,0.09,0.0,0....|                2|\n",
      "|     3DS|   Action|Konami Digital En...|    0.16|    0.03|     0.0|       0.01|        0.21|     E|              Malo|[0.16,0.03,0.0,0....|                2|\n",
      "|     3DS|   Action|Marvelous Enterta...|    0.11|    0.02|    0.08|       0.01|        0.23|     M|              Malo|[0.11,0.02,0.08,0...|                2|\n",
      "|     3DS|   Action|            Nintendo|    0.03|    0.01|    0.02|        0.0|        0.07|     T|         Aceptable|[0.03,0.01,0.02,0...|                2|\n",
      "|     3DS|   Action|            Nintendo|    0.56|    0.33|    0.18|       0.09|        1.16|     E|             Bueno|[0.56,0.33,0.18,0...|                0|\n",
      "|     3DS|   Action|   Rising Star Games|    0.03|    0.02|     0.0|        0.0|        0.05|     E|              Malo|[0.03,0.02,0.0,0....|                2|\n",
      "|     3DS|   Action|                Sega|    0.17|    0.09|     0.0|       0.03|        0.29|     E|              Malo|[0.17,0.09,0.0,0....|                2|\n",
      "|     3DS|   Action|                Sega|    0.26|    0.15|    0.05|       0.04|        0.49|     E|              Malo|[0.26,0.15,0.05,0...|                2|\n",
      "|     3DS|   Action|Warner Bros. Inte...|    0.42|    0.29|     0.0|       0.06|        0.77|  E10+|             Bueno|[0.42,0.29,0.0,0....|                0|\n",
      "|     3DS|Adventure|         Aksys Games|    0.06|     0.0|    0.02|       0.01|        0.09|     M|         Excelente|[0.06,0.0,0.02,0....|                2|\n",
      "|     3DS|Adventure|              Capcom|     0.0|     0.0|    0.03|        0.0|        0.03|     T|         Excelente|(5,[2,4],[0.03,0....|                2|\n",
      "|     3DS|Adventure|        Funbox Media|    0.08|    0.02|     0.0|       0.01|        0.11|     E|         Aceptable|[0.08,0.02,0.0,0....|                2|\n",
      "|     3DS|Adventure|Konami Digital En...|    0.07|    0.05|    0.03|       0.01|        0.16|  E10+|              Malo|[0.07,0.05,0.03,0...|                2|\n",
      "|     3DS|Adventure|            Nintendo|    0.13|    0.02|    0.06|       0.01|        0.23|     T|              Malo|[0.13,0.02,0.06,0...|                2|\n",
      "|     3DS|Adventure|   Rising Star Games|    0.03|     0.0|     0.0|        0.0|        0.03|     M|         Excelente|(5,[0,4],[0.03,0....|                2|\n",
      "|     3DS|Adventure|Warner Bros. Inte...|    0.19|     0.1|     0.0|       0.03|        0.32|  E10+|         Aceptable|[0.19,0.1,0.0,0.0...|                2|\n",
      "|     3DS| Platform|          Activision|    0.11|    0.12|     0.0|       0.02|        0.25|  E10+|         Aceptable|[0.11,0.12,0.0,0....|                2|\n",
      "|     3DS| Platform|              Capcom|    0.15|     0.0|    0.05|       0.02|        0.22|     E|             Bueno|[0.15,0.0,0.05,0....|                2|\n",
      "+--------+---------+--------------------+--------+--------+--------+-----------+------------+------+------------------+--------------------+-----------------+\n",
      "only showing top 20 rows\n",
      "\n",
      "+-----------------+-----+\n",
      "|KMEANS-prediction|count|\n",
      "+-----------------+-----+\n",
      "|                1|    3|\n",
      "|                6|   10|\n",
      "|                3|   68|\n",
      "|                5|  150|\n",
      "|                7|   24|\n",
      "|                2| 1440|\n",
      "|                0|  463|\n",
      "+-----------------+-----+\n",
      "\n"
     ]
    },
    {
     "data": {
      "text/plain": [
       "predictDf: org.apache.spark.sql.DataFrame = [Platform: string, Genre: string ... 10 more fields]\n"
      ]
     },
     "execution_count": 8,
     "metadata": {},
     "output_type": "execute_result"
    }
   ],
   "source": [
    "val predictDf = kmeansModel.transform(testData)\n",
    "println()\n",
    "println(\"|-------------|PREDICCIONES|-------------|\")\n",
    "println()\n",
    "\n",
    "predictDf.show(20)\n",
    "predictDf.groupBy(\"KMEANS-prediction\").count().show()"
   ]
  },
  {
   "cell_type": "markdown",
   "metadata": {},
   "source": [
    "## Medimos distancia al centro a partir de la data predicha"
   ]
  },
  {
   "cell_type": "code",
   "execution_count": 9,
   "metadata": {},
   "outputs": [
    {
     "name": "stdout",
     "output_type": "stream",
     "text": [
      "+--------+---------+--------------------+--------+--------+--------+-----------+------------+------+------------------+--------------------+-----------------+--------------------+\n",
      "|Platform|    Genre|           Publisher|NA_Sales|EU_Sales|JP_Sales|Other_Sales|Global_Sales|Rating|Critic_Score_Class|            features|KMEANS-prediction|            distance|\n",
      "+--------+---------+--------------------+--------+--------+--------+-----------+------------+------+------------------+--------------------+-----------------+--------------------+\n",
      "|     3DS|   Action|          Activision|    0.08|    0.03|     0.0|       0.01|        0.12|     T|              Malo|[0.08,0.03,0.0,0....|                2|0.006045337355711117|\n",
      "|     3DS|   Action|Disney Interactiv...|    0.29|    0.28|     0.0|       0.06|        0.62|  E10+|             Bueno|[0.29,0.28,0.0,0....|                0| 0.09444925652093203|\n",
      "|     3DS|   Action|     Electronic Arts|    0.09|    0.09|     0.0|       0.02|        0.19|  E10+|         Aceptable|[0.09,0.09,0.0,0....|                2|0.001916319908511779|\n",
      "|     3DS|   Action|Konami Digital En...|    0.16|    0.03|     0.0|       0.01|        0.21|     E|              Malo|[0.16,0.03,0.0,0....|                2|0.004545888319898377|\n",
      "|     3DS|   Action|Marvelous Enterta...|    0.11|    0.02|    0.08|       0.01|        0.23|     M|              Malo|[0.11,0.02,0.08,0...|                2|0.006824859853415382|\n",
      "|     3DS|   Action|            Nintendo|    0.03|    0.01|    0.02|        0.0|        0.07|     T|         Aceptable|[0.03,0.01,0.02,0...|                2| 0.02143600157364811|\n",
      "|     3DS|   Action|            Nintendo|    0.56|    0.33|    0.18|       0.09|        1.16|     E|             Bueno|[0.56,0.33,0.18,0...|                0| 0.11333907744458857|\n",
      "|     3DS|   Action|   Rising Star Games|    0.03|    0.02|     0.0|        0.0|        0.05|     E|              Malo|[0.03,0.02,0.0,0....|                2|0.026121125540590262|\n",
      "|     3DS|   Action|                Sega|    0.17|    0.09|     0.0|       0.03|        0.29|     E|              Malo|[0.17,0.09,0.0,0....|                2| 0.01668886352650987|\n",
      "|     3DS|   Action|                Sega|    0.26|    0.15|    0.05|       0.04|        0.49|     E|              Malo|[0.26,0.15,0.05,0...|                2| 0.12679351611298045|\n",
      "|     3DS|   Action|Warner Bros. Inte...|    0.42|    0.29|     0.0|       0.06|        0.77|  E10+|             Bueno|[0.42,0.29,0.0,0....|                0|0.017403356426681307|\n",
      "|     3DS|Adventure|         Aksys Games|    0.06|     0.0|    0.02|       0.01|        0.09|     M|         Excelente|[0.06,0.0,0.02,0....|                2|0.014308575800767786|\n",
      "|     3DS|Adventure|              Capcom|     0.0|     0.0|    0.03|        0.0|        0.03|     T|         Excelente|(5,[2,4],[0.03,0....|                2| 0.03889547509675803|\n",
      "|     3DS|Adventure|        Funbox Media|    0.08|    0.02|     0.0|       0.01|        0.11|     E|         Aceptable|[0.08,0.02,0.0,0....|                2|0.008053540600278008|\n",
      "|     3DS|Adventure|Konami Digital En...|    0.07|    0.05|    0.03|       0.01|        0.16|  E10+|              Malo|[0.07,0.05,0.03,0...|                2|0.002131042895962...|\n",
      "|     3DS|Adventure|            Nintendo|    0.13|    0.02|    0.06|       0.01|        0.23|     T|              Malo|[0.13,0.02,0.06,0...|                2| 0.00538623114205939|\n",
      "|     3DS|Adventure|   Rising Star Games|    0.03|     0.0|     0.0|        0.0|        0.03|     M|         Excelente|(5,[0,4],[0.03,0....|                2| 0.03373753202972404|\n",
      "|     3DS|Adventure|Warner Bros. Inte...|    0.19|     0.1|     0.0|       0.03|        0.32|  E10+|         Aceptable|[0.19,0.1,0.0,0.0...|                2| 0.02762482924429375|\n",
      "|     3DS| Platform|          Activision|    0.11|    0.12|     0.0|       0.02|        0.25|  E10+|         Aceptable|[0.11,0.12,0.0,0....|                2|0.008759754251946068|\n",
      "|     3DS| Platform|              Capcom|    0.15|     0.0|    0.05|       0.02|        0.22|     E|             Bueno|[0.15,0.0,0.05,0....|                2| 0.00700352529571719|\n",
      "+--------+---------+--------------------+--------+--------+--------+-----------+------------+------+------------------+--------------------+-----------------+--------------------+\n",
      "only showing top 20 rows\n",
      "\n"
     ]
    },
    {
     "data": {
      "text/plain": [
       "distFromCenter: org.apache.spark.sql.expressions.UserDefinedFunction = UserDefinedFunction(<function2>,DoubleType,Some(List(org.apache.spark.ml.linalg.VectorUDT@3bfc3ba7, IntegerType)))\r\n",
       "distanceDf: org.apache.spark.sql.DataFrame = [Platform: string, Genre: string ... 11 more fields]\n"
      ]
     },
     "execution_count": 9,
     "metadata": {},
     "output_type": "execute_result"
    }
   ],
   "source": [
    "// calculate distance from center\n",
    "val distFromCenter = udf((features: Vector, c: Int) => Vectors.sqdist(features, kmeansModel.clusterCenters(c)))\n",
    "val distanceDf = predictDf.withColumn(\"distance\", distFromCenter($\"features\", $\"KMEANS-prediction\"))\n",
    "distanceDf.show(20)"
   ]
  },
  {
   "cell_type": "markdown",
   "metadata": {},
   "source": [
    "## Contamos cuantas filas pertenecen a cada columna"
   ]
  },
  {
   "cell_type": "code",
   "execution_count": 10,
   "metadata": {},
   "outputs": [
    {
     "name": "stdout",
     "output_type": "stream",
     "text": [
      "+-----------------+-----+\n",
      "|KMEANS-prediction|count|\n",
      "+-----------------+-----+\n",
      "|                1|    3|\n",
      "|                6|   10|\n",
      "|                3|   68|\n",
      "|                5|  150|\n",
      "|                7|   24|\n",
      "|                2| 1440|\n",
      "|                0|  463|\n",
      "+-----------------+-----+\n",
      "\n"
     ]
    }
   ],
   "source": [
    "// no of categories\n",
    "predictDf.groupBy(\"KMEANS-prediction\").count().show()\n",
    "\n",
    "// save model\n",
    "kmeansModel.write.overwrite().save(\"videogame-model\")"
   ]
  },
  {
   "cell_type": "markdown",
   "metadata": {},
   "source": [
    "## Creamos un Cluster con algoritmo \"Gaussian Mixture Model (GMM)\""
   ]
  },
  {
   "cell_type": "markdown",
   "metadata": {},
   "source": [
    "Gaussian Mixture Model (GMM) representa una distribución compuesta en la que los puntos se extraen de una de k subdistribuciones gaussianas, cada una con su propia probabilidad. La implementación de spark.ml utiliza el algoritmo de **maximización de expectativas** para inducir el modelo de máxima verosimilitud dado un conjunto de muestras."
   ]
  },
  {
   "cell_type": "code",
   "execution_count": 11,
   "metadata": {},
   "outputs": [
    {
     "name": "stdout",
     "output_type": "stream",
     "text": [
      "2021-02-18 20:30:43 WARN  LAPACK:61 - Failed to load implementation from: com.github.fommil.netlib.NativeSystemLAPACK\n",
      "2021-02-18 20:30:43 WARN  LAPACK:61 - Failed to load implementation from: com.github.fommil.netlib.NativeRefLAPACK\n",
      "Gaussian 0:\n",
      "weight=0.2665765844659274\n",
      "mu=[0.3671170883040322,0.19021997032977006,2.8371640876758776E-7,0.0607513467666437,0.618213677966869]\n",
      "sigma=\n",
      "0.061518499304870404  0.008297798794410855   ... (5 total)\n",
      "0.008297798794410855  0.02301222096338634    ...\n",
      "8.443119173136265E-7  2.0275440844544556E-8  ...\n",
      "0.00522276935543689   0.004610581404417511   ...\n",
      "0.0749576965395531    0.03589057465253671    ...\n",
      "\n",
      "Gaussian 1:\n",
      "weight=0.11822469977197922\n",
      "mu=[0.10339137633101876,0.04317418513605366,0.07719373421284209,0.018384559293535913,0.24209448088475716]\n",
      "sigma=\n",
      "0.006988765458454253   0.002051933350157219   ... (5 total)\n",
      "0.002051933350157219   0.002249607464470165   ...\n",
      "1.8625398794278581E-4  2.6486045176877713E-4  ...\n",
      "8.996398099066409E-4   6.01979284955809E-4    ...\n",
      "0.010114724258083024   0.005154867179598112   ...\n",
      "\n",
      "Gaussian 2:\n",
      "weight=0.026323039106977357\n",
      "mu=[2.4895498051551024,1.9427758554137626,0.11109747426518621,0.6391482109228454,5.18180460963269]\n",
      "sigma=\n",
      "3.4523459608783607   0.6316439674130413   0.03607885088189425   ... (5 total)\n",
      "0.6316439674130413   1.618110503957506    0.06398076690850442   ...\n",
      "0.03607885088189425  0.06398076690850442  0.015488251981976201  ...\n",
      "0.3159690327243435   0.3991363010906525   0.03392818761182447   ...\n",
      "4.436390266641316    2.71222754192772     0.14937249525557372   ...\n",
      "\n",
      "Gaussian 3:\n",
      "weight=0.39553918093089174\n",
      "mu=[0.07109640938616406,0.028817433136867465,1.9121279218964866E-7,0.008785030238196743,0.10929521777414679]\n",
      "sigma=\n",
      "0.0036399456688160116  4.0032899608786923E-4  ... (5 total)\n",
      "4.0032899608786923E-4  7.724984828603919E-4   ...\n",
      "6.256332616835256E-7   4.4527014556353524E-8  ...\n",
      "3.0101878723239826E-4  1.6189230959538054E-4  ...\n",
      "0.00428852701273088    0.0013109514305885478  ...\n",
      "\n",
      "Gaussian 4:\n",
      "weight=0.010469389529360692\n",
      "mu=[4.673832664227442,3.5174755060883873,2.1261842743601314,0.9249321798851392,11.242459272672672]\n",
      "sigma=\n",
      "42.82537662550963   29.177861280038982  3.8447997096289037  ... (5 total)\n",
      "29.177861280038982  21.723254793540583  3.3971366118448167  ...\n",
      "3.8447997096289037  3.3971366118448167  2.2796342159382843  ...\n",
      "8.54780675761098    6.202078807713434   0.925400834863391   ...\n",
      "84.39758012762958   60.50443504877197   10.448793663648669  ...\n",
      "\n",
      "Gaussian 5:\n",
      "weight=0.09476032033259771\n",
      "mu=[0.9556558859042596,0.5530717732683421,0.017100495449123395,0.19647342705896215,1.7221960459376033]\n",
      "sigma=\n",
      "0.44843715723212735    0.05163792360893865    ... (5 total)\n",
      "0.05163792360893865    0.14236230401736766    ...\n",
      "2.7491078913206012E-5  0.0015791369873254333  ...\n",
      "0.0261111538985314     0.0244979547866185     ...\n",
      "0.526508215006926      0.2200520796179943     ...\n",
      "\n",
      "Gaussian 6:\n",
      "weight=0.07185842194656343\n",
      "mu=[0.4029835018370163,0.22349441916826673,0.2939704043350568,0.07823814432597627,0.998529476846387]\n",
      "sigma=\n",
      "0.07471429125457164   0.019747406012160178  ... (5 total)\n",
      "0.019747406012160178  0.024263753928421866  ...\n",
      "0.002826315201205265  -0.00791020474709198  ...\n",
      "0.005302790296347489  0.00630629163154411   ...\n",
      "0.10259036556026088   0.04239452588070416   ...\n",
      "\n",
      "Gaussian 7:\n",
      "weight=0.01624836391570244\n",
      "mu=[1.2257411108984668,0.78662164526756,0.5972860325229193,0.5490924159838084,3.159113833429574]\n",
      "sigma=\n",
      "0.7858844299800146   0.23817310185817717   0.09157210380064394   ... (5 total)\n",
      "0.23817310185817717  0.43701955583192353   0.06447694084588919   ...\n",
      "0.09157210380064394  0.06447694084588919   0.2814067014405036    ...\n",
      "0.12301239075821437  -0.16148971716989816  0.021673435911049765  ...\n",
      "1.2387462660092878   0.5778880036601034    0.45922576325165826   ...\n",
      "\n"
     ]
    },
    {
     "data": {
      "text/plain": [
       "import org.apache.spark.ml.clustering.GaussianMixture\r\n",
       "gmm: org.apache.spark.ml.clustering.GaussianMixture = GaussianMixture_e8db142681f6\r\n",
       "gmmModel: org.apache.spark.ml.clustering.GaussianMixtureModel = GaussianMixture_e8db142681f6\n"
      ]
     },
     "execution_count": 11,
     "metadata": {},
     "output_type": "execute_result"
    }
   ],
   "source": [
    "import org.apache.spark.ml.clustering.GaussianMixture\n",
    "\n",
    "// Trains Gaussian Mixture Model\n",
    "val gmm = new GaussianMixture().setK(8).setFeaturesCol(\"features\").setPredictionCol(\"GMM-prediction\").setProbabilityCol(\"GMM-probability\")\n",
    "val gmmModel = gmm.fit(trainingData)\n",
    "\n",
    "\n",
    "\n",
    "// output parameters of mixture model model\n",
    "for (i <- 0 until gmmModel.getK) {\n",
    "  println(s\"Gaussian $i:\\nweight=${gmmModel.weights(i)}\\n\" +\n",
    "      s\"mu=${gmmModel.gaussians(i).mean}\\nsigma=\\n${gmmModel.gaussians(i).cov}\\n\")\n",
    "}"
   ]
  },
  {
   "cell_type": "code",
   "execution_count": 12,
   "metadata": {},
   "outputs": [
    {
     "name": "stdout",
     "output_type": "stream",
     "text": [
      "\n",
      "|-------------|PREDICCIONES|-------------|\n",
      "\n",
      "+--------+---------+--------------------+--------+--------+--------+-----------+------------+------+------------------+--------------------+--------------+--------------------+\n",
      "|Platform|    Genre|           Publisher|NA_Sales|EU_Sales|JP_Sales|Other_Sales|Global_Sales|Rating|Critic_Score_Class|            features|GMM-prediction|     GMM-probability|\n",
      "+--------+---------+--------------------+--------+--------+--------+-----------+------------+------+------------------+--------------------+--------------+--------------------+\n",
      "|     3DS|   Action|          Activision|    0.08|    0.03|     0.0|       0.01|        0.12|     T|              Malo|[0.08,0.03,0.0,0....|             3|[0.00160767721472...|\n",
      "|     3DS|   Action|Disney Interactiv...|    0.29|    0.28|     0.0|       0.06|        0.62|  E10+|             Bueno|[0.29,0.28,0.0,0....|             0|[0.99935971567547...|\n",
      "|     3DS|   Action|     Electronic Arts|    0.09|    0.09|     0.0|       0.02|        0.19|  E10+|         Aceptable|[0.09,0.09,0.0,0....|             3|[0.01995190448705...|\n",
      "|     3DS|   Action|Konami Digital En...|    0.16|    0.03|     0.0|       0.01|        0.21|     E|              Malo|[0.16,0.03,0.0,0....|             3|[0.01057060685439...|\n",
      "|     3DS|   Action|Marvelous Enterta...|    0.11|    0.02|    0.08|       0.01|        0.23|     M|              Malo|[0.11,0.02,0.08,0...|             1|[1.34854063738440...|\n",
      "|     3DS|   Action|            Nintendo|    0.03|    0.01|    0.02|        0.0|        0.07|     T|         Aceptable|[0.03,0.01,0.02,0...|             1|[2.06400468163890...|\n",
      "|     3DS|   Action|            Nintendo|    0.56|    0.33|    0.18|       0.09|        1.16|     E|             Bueno|[0.56,0.33,0.18,0...|             6|[1.22588748071482...|\n",
      "|     3DS|   Action|   Rising Star Games|    0.03|    0.02|     0.0|        0.0|        0.05|     E|              Malo|[0.03,0.02,0.0,0....|             3|[0.00221750190120...|\n",
      "|     3DS|   Action|                Sega|    0.17|    0.09|     0.0|       0.03|        0.29|     E|              Malo|[0.17,0.09,0.0,0....|             3|[0.08554610288507...|\n",
      "|     3DS|   Action|                Sega|    0.26|    0.15|    0.05|       0.04|        0.49|     E|              Malo|[0.26,0.15,0.05,0...|             1|[4.30273962128814...|\n",
      "|     3DS|   Action|Warner Bros. Inte...|    0.42|    0.29|     0.0|       0.06|        0.77|  E10+|             Bueno|[0.42,0.29,0.0,0....|             0|[0.99950316777726...|\n",
      "|     3DS|Adventure|         Aksys Games|    0.06|     0.0|    0.02|       0.01|        0.09|     M|         Excelente|[0.06,0.0,0.02,0....|             1|[5.15599452253775...|\n",
      "|     3DS|Adventure|              Capcom|     0.0|     0.0|    0.03|        0.0|        0.03|     T|         Excelente|(5,[2,4],[0.03,0....|             1|[6.46897908938444...|\n",
      "|     3DS|Adventure|        Funbox Media|    0.08|    0.02|     0.0|       0.01|        0.11|     E|         Aceptable|[0.08,0.02,0.0,0....|             3|[0.00174353667101...|\n",
      "|     3DS|Adventure|Konami Digital En...|    0.07|    0.05|    0.03|       0.01|        0.16|  E10+|              Malo|[0.07,0.05,0.03,0...|             1|[4.55811393721268...|\n",
      "|     3DS|Adventure|            Nintendo|    0.13|    0.02|    0.06|       0.01|        0.23|     T|              Malo|[0.13,0.02,0.06,0...|             1|[1.57428754443276...|\n",
      "|     3DS|Adventure|   Rising Star Games|    0.03|     0.0|     0.0|        0.0|        0.03|     M|         Excelente|(5,[0,4],[0.03,0....|             3|[0.00218334728831...|\n",
      "|     3DS|Adventure|Warner Bros. Inte...|    0.19|     0.1|     0.0|       0.03|        0.32|  E10+|         Aceptable|[0.19,0.1,0.0,0.0...|             3|[0.20218250451207...|\n",
      "|     3DS| Platform|          Activision|    0.11|    0.12|     0.0|       0.02|        0.25|  E10+|         Aceptable|[0.11,0.12,0.0,0....|             0|[0.51809189781034...|\n",
      "|     3DS| Platform|              Capcom|    0.15|     0.0|    0.05|       0.02|        0.22|     E|             Bueno|[0.15,0.0,0.05,0....|             1|[1.06840840798246...|\n",
      "+--------+---------+--------------------+--------+--------+--------+-----------+------------+------+------------------+--------------------+--------------+--------------------+\n",
      "only showing top 20 rows\n",
      "\n",
      "+--------------+-----+\n",
      "|GMM-prediction|count|\n",
      "+--------------+-----+\n",
      "|             1|  238|\n",
      "|             6|  120|\n",
      "|             3|  925|\n",
      "|             5|  200|\n",
      "|             4|   22|\n",
      "|             7|   27|\n",
      "|             2|   58|\n",
      "|             0|  568|\n",
      "+--------------+-----+\n",
      "\n"
     ]
    },
    {
     "data": {
      "text/plain": [
       "gmmpredictDf: org.apache.spark.sql.DataFrame = [Platform: string, Genre: string ... 11 more fields]\n"
      ]
     },
     "execution_count": 12,
     "metadata": {},
     "output_type": "execute_result"
    }
   ],
   "source": [
    "val gmmpredictDf = gmmModel.transform(testData)\n",
    "println()\n",
    "println(\"|-------------|PREDICCIONES|-------------|\")\n",
    "println()\n",
    "\n",
    "gmmpredictDf.show(20)\n",
    "gmmpredictDf.groupBy(\"GMM-prediction\").count().show()"
   ]
  },
  {
   "cell_type": "markdown",
   "metadata": {},
   "source": [
    "## Creamos un Cluster con algoritmo \"Bisecting K-Means\""
   ]
  },
  {
   "cell_type": "code",
   "execution_count": 13,
   "metadata": {},
   "outputs": [
    {
     "name": "stdout",
     "output_type": "stream",
     "text": [
      "2021-02-18 20:30:48 WARN  BisectingKMeans:66 - The input RDD 262 is not directly cached, which may hurt performance if its parent RDDs are also not cached.\n",
      "Cluster Centers: \n",
      "[0.1205288192501398,0.06166200335758273,0.0198153329602687,0.02097649692221623,0.2233967543368772]\n",
      "[0.575803667745415,0.3287162891046382,0.08372168284789662,0.11562028047464931,1.1035167206040999]\n",
      "[1.3690031152647977,0.8425233644859814,0.1870093457943925,0.319968847352025,2.718566978193146]\n",
      "[2.686931818181819,1.7962500000000006,0.5962499999999998,0.5495454545454546,5.628295454545456]\n",
      "[4.686000000000001,3.2276,1.0268000000000002,1.2620000000000002,10.202800000000002]\n",
      "[7.136000000000002,5.825,1.8960000000000001,1.614,16.47]\n",
      "[14.201999999999998,9.806000000000001,4.24,2.8420000000000005,31.092000000000002]\n",
      "[41.36,28.96,3.77,8.45,82.54]\n"
     ]
    },
    {
     "data": {
      "text/plain": [
       "import org.apache.spark.ml.clustering.BisectingKMeans\r\n",
       "import org.apache.spark.ml.evaluation.ClusteringEvaluator\r\n",
       "bkm: org.apache.spark.ml.clustering.BisectingKMeans = bisecting-kmeans_31c156ca7146\r\n",
       "bkmModel: org.apache.spark.ml.clustering.BisectingKMeansModel = bisecting-kmeans_31c156ca7146\r\n",
       "bkmPredictions: org.apache.spark.sql.DataFrame = [Platform: string, Genre: string ... 10 more fields]\r\n",
       "centers: Array[org.apache.spark.ml.linalg.Vector] = Array([0.1205288192501398,0.06166200335758273,0.0198153329602687,0.02097649692221623,0.2233967543368772], [0.575803667745415,0.3287162891046382,0.08372168284789662,0.11562028047464931,1.1035167206040999], [1.3690031152647977,0.8425233644859814,0.1870093457943925,0.319968847352025,2.718566978193146], [2.686931818181819,1.7962500000000006,0.5962499..."
      ]
     },
     "execution_count": 13,
     "metadata": {},
     "output_type": "execute_result"
    }
   ],
   "source": [
    "import org.apache.spark.ml.clustering.BisectingKMeans\n",
    "import org.apache.spark.ml.evaluation.ClusteringEvaluator\n",
    "\n",
    "\n",
    "// Trains a bisecting k-means model.\n",
    "val bkm = new BisectingKMeans().setK(8).setFeaturesCol(\"features\").setPredictionCol(\"BisKMeans-prediction\")\n",
    "val bkmModel = bkm.fit(trainingData)\n",
    "\n",
    "// Make predictions\n",
    "val bkmPredictions = bkmModel.transform(trainingData)\n",
    "\n",
    "// Shows the result.\n",
    "println(\"Cluster Centers: \")\n",
    "val centers = bkmModel.clusterCenters\n",
    "centers.foreach(println)\n"
   ]
  },
  {
   "cell_type": "code",
   "execution_count": 14,
   "metadata": {},
   "outputs": [
    {
     "name": "stdout",
     "output_type": "stream",
     "text": [
      "\n",
      "|-------------|PREDICCIONES|-------------|\n",
      "\n",
      "+--------+---------+--------------------+--------+--------+--------+-----------+------------+------+------------------+--------------------+--------------------+\n",
      "|Platform|    Genre|           Publisher|NA_Sales|EU_Sales|JP_Sales|Other_Sales|Global_Sales|Rating|Critic_Score_Class|            features|BisKMeans-prediction|\n",
      "+--------+---------+--------------------+--------+--------+--------+-----------+------------+------+------------------+--------------------+--------------------+\n",
      "|     3DS|   Action|          Activision|    0.08|    0.03|     0.0|       0.01|        0.12|     T|              Malo|[0.08,0.03,0.0,0....|                   0|\n",
      "|     3DS|   Action|Disney Interactiv...|    0.29|    0.28|     0.0|       0.06|        0.62|  E10+|             Bueno|[0.29,0.28,0.0,0....|                   0|\n",
      "|     3DS|   Action|     Electronic Arts|    0.09|    0.09|     0.0|       0.02|        0.19|  E10+|         Aceptable|[0.09,0.09,0.0,0....|                   0|\n",
      "|     3DS|   Action|Konami Digital En...|    0.16|    0.03|     0.0|       0.01|        0.21|     E|              Malo|[0.16,0.03,0.0,0....|                   0|\n",
      "|     3DS|   Action|Marvelous Enterta...|    0.11|    0.02|    0.08|       0.01|        0.23|     M|              Malo|[0.11,0.02,0.08,0...|                   0|\n",
      "|     3DS|   Action|            Nintendo|    0.03|    0.01|    0.02|        0.0|        0.07|     T|         Aceptable|[0.03,0.01,0.02,0...|                   0|\n",
      "|     3DS|   Action|            Nintendo|    0.56|    0.33|    0.18|       0.09|        1.16|     E|             Bueno|[0.56,0.33,0.18,0...|                   1|\n",
      "|     3DS|   Action|   Rising Star Games|    0.03|    0.02|     0.0|        0.0|        0.05|     E|              Malo|[0.03,0.02,0.0,0....|                   0|\n",
      "|     3DS|   Action|                Sega|    0.17|    0.09|     0.0|       0.03|        0.29|     E|              Malo|[0.17,0.09,0.0,0....|                   0|\n",
      "|     3DS|   Action|                Sega|    0.26|    0.15|    0.05|       0.04|        0.49|     E|              Malo|[0.26,0.15,0.05,0...|                   0|\n",
      "|     3DS|   Action|Warner Bros. Inte...|    0.42|    0.29|     0.0|       0.06|        0.77|  E10+|             Bueno|[0.42,0.29,0.0,0....|                   1|\n",
      "|     3DS|Adventure|         Aksys Games|    0.06|     0.0|    0.02|       0.01|        0.09|     M|         Excelente|[0.06,0.0,0.02,0....|                   0|\n",
      "|     3DS|Adventure|              Capcom|     0.0|     0.0|    0.03|        0.0|        0.03|     T|         Excelente|(5,[2,4],[0.03,0....|                   0|\n",
      "|     3DS|Adventure|        Funbox Media|    0.08|    0.02|     0.0|       0.01|        0.11|     E|         Aceptable|[0.08,0.02,0.0,0....|                   0|\n",
      "|     3DS|Adventure|Konami Digital En...|    0.07|    0.05|    0.03|       0.01|        0.16|  E10+|              Malo|[0.07,0.05,0.03,0...|                   0|\n",
      "|     3DS|Adventure|            Nintendo|    0.13|    0.02|    0.06|       0.01|        0.23|     T|              Malo|[0.13,0.02,0.06,0...|                   0|\n",
      "|     3DS|Adventure|   Rising Star Games|    0.03|     0.0|     0.0|        0.0|        0.03|     M|         Excelente|(5,[0,4],[0.03,0....|                   0|\n",
      "|     3DS|Adventure|Warner Bros. Inte...|    0.19|     0.1|     0.0|       0.03|        0.32|  E10+|         Aceptable|[0.19,0.1,0.0,0.0...|                   0|\n",
      "|     3DS| Platform|          Activision|    0.11|    0.12|     0.0|       0.02|        0.25|  E10+|         Aceptable|[0.11,0.12,0.0,0....|                   0|\n",
      "|     3DS| Platform|              Capcom|    0.15|     0.0|    0.05|       0.02|        0.22|     E|             Bueno|[0.15,0.0,0.05,0....|                   0|\n",
      "+--------+---------+--------------------+--------+--------+--------+-----------+------------+------+------------------+--------------------+--------------------+\n",
      "only showing top 20 rows\n",
      "\n",
      "+--------------------+-----+\n",
      "|BisKMeans-prediction|count|\n",
      "+--------------------+-----+\n",
      "|                   1|  391|\n",
      "|                   3|   52|\n",
      "|                   5|    9|\n",
      "|                   4|    4|\n",
      "|                   2|  120|\n",
      "|                   0| 1582|\n",
      "+--------------------+-----+\n",
      "\n"
     ]
    },
    {
     "data": {
      "text/plain": [
       "BKMpredictDf: org.apache.spark.sql.DataFrame = [Platform: string, Genre: string ... 10 more fields]\n"
      ]
     },
     "execution_count": 14,
     "metadata": {},
     "output_type": "execute_result"
    }
   ],
   "source": [
    "val BKMpredictDf = bkmModel.transform(testData)\n",
    "println()\n",
    "println(\"|-------------|PREDICCIONES|-------------|\")\n",
    "println()\n",
    "\n",
    "BKMpredictDf.show(20)\n",
    "BKMpredictDf.groupBy(\"BisKMeans-prediction\").count().show()"
   ]
  },
  {
   "cell_type": "code",
   "execution_count": 15,
   "metadata": {},
   "outputs": [
    {
     "name": "stdout",
     "output_type": "stream",
     "text": [
      "+--------+------+--------------------+--------+--------+--------+-----------+------------+------+------------------+--------------------+-----------------+--------------+--------------------+--------------------+\n",
      "|Platform| Genre|           Publisher|NA_Sales|EU_Sales|JP_Sales|Other_Sales|Global_Sales|Rating|Critic_Score_Class|            features|KMEANS-prediction|GMM-prediction|     GMM-probability|BisKMeans-prediction|\n",
      "+--------+------+--------------------+--------+--------+--------+-----------+------------+------+------------------+--------------------+-----------------+--------------+--------------------+--------------------+\n",
      "|     3DS|Action|           505 Games|     0.0|    0.05|    0.05|        0.0|         0.1|     T|             Bueno|[0.0,0.05,0.05,0....|                2|             1|[2.02987982666683...|                   0|\n",
      "|     3DS|Action|          Activision|    0.13|    0.01|     0.0|       0.02|        0.15|  E10+|              Malo|[0.13,0.01,0.0,0....|                2|             3|[0.01278199521557...|                   0|\n",
      "|     3DS|Action|          Activision|    0.33|     0.2|     0.0|       0.05|        0.58|  E10+|         Excelente|[0.33,0.2,0.0,0.0...|                0|             0|[0.99962288737329...|                   0|\n",
      "|     3DS|Action|          Activision|    0.38|     0.2|     0.0|       0.05|        0.63|     E|         Aceptable|[0.38,0.2,0.0,0.0...|                0|             0|[0.99963698558571...|                   0|\n",
      "|     3DS|Action|Agatsuma Entertai...|    0.16|     0.0|    0.03|       0.01|         0.2|     T|         Aceptable|[0.16,0.0,0.03,0....|                2|             1|[1.07850994380675...|                   0|\n",
      "|     3DS|Action|              Capcom|    0.16|    0.16|    0.13|       0.03|        0.49|     M|         Aceptable|[0.16,0.16,0.13,0...|                2|             1|[1.33609889363955...|                   0|\n",
      "|     3DS|Action|              Capcom|     0.3|    0.22|     0.3|       0.05|        0.88|     M|         Excelente|[0.3,0.22,0.3,0.0...|                0|             6|[3.07242428559634...|                   1|\n",
      "|     3DS|Action|     Electronic Arts|    0.06|     0.2|     0.0|       0.03|        0.29|     E|         Aceptable|[0.06,0.2,0.0,0.0...|                2|             0|[0.99962452647036...|                   0|\n",
      "|     3DS|Action|               G.Rev|     0.0|     0.0|    0.01|        0.0|        0.01|     E|             Bueno|(5,[2,4],[0.01,0....|                2|             1|[7.93909040640963...|                   0|\n",
      "|     3DS|Action|Konami Digital En...|    0.15|    0.11|     0.1|       0.02|        0.38|     M|             Bueno|[0.15,0.11,0.1,0....|                2|             1|[2.69850960426534...|                   0|\n",
      "|     3DS|Action|        Little Orbit|     0.0|    0.07|     0.0|        0.0|        0.08|  E10+|         Aceptable|(5,[1,4],[0.07,0....|                2|             3|[0.04969170337199...|                   0|\n",
      "|     3DS|Action|           LucasArts|    0.61|    0.43|     0.0|       0.09|        1.13|  E10+|         Aceptable|[0.61,0.43,0.0,0....|                0|             0|[0.99807373615342...|                   1|\n",
      "|     3DS|Action|Marvelous Enterta...|    0.41|    0.17|     0.3|       0.05|        0.92|     E|             Bueno|[0.41,0.17,0.3,0....|                0|             6|[2.36224162438654...|                   1|\n",
      "|     3DS|Action|  Namco Bandai Games|    0.01|    0.01|     0.0|        0.0|        0.02|  E10+|              Malo|[0.01,0.01,0.0,0....|                2|             3|[0.00211569848011...|                   0|\n",
      "|     3DS|Action|  Namco Bandai Games|    0.05|    0.04|    0.28|       0.01|        0.39|     T|             Bueno|[0.05,0.04,0.28,0...|                2|             1|[1.30267472147856...|                   0|\n",
      "|     3DS|Action|            Nintendo|     0.0|    0.01|    0.08|        0.0|         0.1|  E10+|              Malo|[0.0,0.01,0.08,0....|                2|             1|[2.38391545488765...|                   0|\n",
      "|     3DS|Action|            Nintendo|    0.03|    0.04|    0.09|       0.01|        0.16|     E|             Bueno|[0.03,0.04,0.09,0...|                2|             1|[1.98544804464424...|                   0|\n",
      "|     3DS|Action|            Nintendo|     0.2|    0.04|    0.21|       0.02|        0.47|     E|         Excelente|[0.2,0.04,0.21,0....|                2|             1|[4.61516246275475...|                   0|\n",
      "|     3DS|Action|            Nintendo|     0.3|    0.18|     0.5|       0.05|        1.03|     E|         Excelente|[0.3,0.18,0.5,0.0...|                0|             6|[1.27846500765870...|                   1|\n",
      "|     3DS|Action|            Nintendo|    0.31|     0.1|    0.05|       0.03|        0.49|  E10+|              Malo|[0.31,0.1,0.05,0....|                2|             1|[1.54331558773236...|                   0|\n",
      "+--------+------+--------------------+--------+--------+--------+-----------+------------+------+------------------+--------------------+-----------------+--------------+--------------------+--------------------+\n",
      "only showing top 20 rows\n",
      "\n"
     ]
    },
    {
     "data": {
      "text/plain": [
       "finalDF: org.apache.spark.sql.DataFrame = [Platform: string, Genre: string ... 10 more fields]\r\n",
       "finalDF1: org.apache.spark.sql.DataFrame = [Platform: string, Genre: string ... 12 more fields]\r\n",
       "finalDF2: org.apache.spark.sql.DataFrame = [Platform: string, Genre: string ... 13 more fields]\n"
      ]
     },
     "execution_count": 15,
     "metadata": {},
     "output_type": "execute_result"
    }
   ],
   "source": [
    "val finalDF = kmeansModel.transform(trainingData)\n",
    "val finalDF1 = gmmModel.transform(finalDF)\n",
    "val finalDF2 = bkmModel.transform(finalDF1)\n",
    "\n",
    "finalDF2.show(20)"
   ]
  },
  {
   "cell_type": "code",
   "execution_count": 39,
   "metadata": {},
   "outputs": [
    {
     "ename": "<console>",
     "evalue": "54: error: constructor cannot be instantiated to expected type;\r",
     "output_type": "error",
     "traceback": [
      "<console>:54: error: constructor cannot be instantiated to expected type;\r",
      " found   : (T1, T2, T3, T4, T5, T6, T7, T8, T9, T10, T11, T12, T13, T14, T15)\r",
      " required: org.apache.spark.sql.Row\r",
      "           case(a, b, c, d, e, f, g, h, i, j, k, l, m, n, o) =>\r",
      "               ^",
      ""
     ]
    }
   ],
   "source": [
    "finalDF2.map({\n",
    "    case(a, b, c, d, e, f, g, h, i, j, k, l, m, n, o) =>\n",
    "  var line = a.toString + \",\" + b.toString + \",\" + c.toString + \",\" + d.toString + \",\" + e.toString + \",\" + f.toString + \",\" + g.toString + \",\" + h.toString + \",\" + i.toString + \",\" + j.toString + \",\" + k.toString + \",\" + l.toString + \",\" + m.toString + \",\" + n.toString + \",\" + o.toString \n",
    "  line\n",
    "}).saveAsTextFile(\"FinalDF\")"
   ]
  },
  {
   "cell_type": "code",
   "execution_count": 42,
   "metadata": {},
   "outputs": [
    {
     "ename": "java.lang.UnsupportedOperationException",
     "evalue": " CSV data source does not support struct<type:tinyint,size:int,indices:array<int>,values:array<double>> data type.\r",
     "output_type": "error",
     "traceback": [
      "java.lang.UnsupportedOperationException: CSV data source does not support struct<type:tinyint,size:int,indices:array<int>,values:array<double>> data type.\r",
      "  at org.apache.spark.sql.execution.datasources.csv.CSVUtils$.org$apache$spark$sql$execution$datasources$csv$CSVUtils$$verifyType$1(CSVUtils.scala:127)\r",
      "  at org.apache.spark.sql.execution.datasources.csv.CSVUtils$$anonfun$verifySchema$1.apply(CSVUtils.scala:131)\r",
      "  at org.apache.spark.sql.execution.datasources.csv.CSVUtils$$anonfun$verifySchema$1.apply(CSVUtils.scala:131)\r",
      "  at scala.collection.Iterator$class.foreach(Iterator.scala:893)\r",
      "  at scala.collection.AbstractIterator.foreach(Iterator.scala:1336)\r",
      "  at scala.collection.IterableLike$class.foreach(IterableLike.scala:72)\r",
      "  at org.apache.spark.sql.types.StructType.foreach(StructType.scala:99)\r",
      "  at org.apache.spark.sql.execution.datasources.csv.CSVUtils$.verifySchema(CSVUtils.scala:131)\r",
      "  at org.apache.spark.sql.execution.datasources.csv.CSVFileFormat.prepareWrite(CSVFileFormat.scala:65)\r",
      "  at org.apache.spark.sql.execution.datasources.FileFormatWriter$.write(FileFormatWriter.scala:140)\r",
      "  at org.apache.spark.sql.execution.datasources.InsertIntoHadoopFsRelationCommand.run(InsertIntoHadoopFsRelationCommand.scala:154)\r",
      "  at org.apache.spark.sql.execution.command.DataWritingCommandExec.sideEffectResult$lzycompute(commands.scala:104)\r",
      "  at org.apache.spark.sql.execution.command.DataWritingCommandExec.sideEffectResult(commands.scala:102)\r",
      "  at org.apache.spark.sql.execution.command.DataWritingCommandExec.doExecute(commands.scala:122)\r",
      "  at org.apache.spark.sql.execution.SparkPlan$$anonfun$execute$1.apply(SparkPlan.scala:131)\r",
      "  at org.apache.spark.sql.execution.SparkPlan$$anonfun$execute$1.apply(SparkPlan.scala:127)\r",
      "  at org.apache.spark.sql.execution.SparkPlan$$anonfun$executeQuery$1.apply(SparkPlan.scala:155)\r",
      "  at org.apache.spark.rdd.RDDOperationScope$.withScope(RDDOperationScope.scala:151)\r",
      "  at org.apache.spark.sql.execution.SparkPlan.executeQuery(SparkPlan.scala:152)\r",
      "  at org.apache.spark.sql.execution.SparkPlan.execute(SparkPlan.scala:127)\r",
      "  at org.apache.spark.sql.execution.QueryExecution.toRdd$lzycompute(QueryExecution.scala:80)\r",
      "  at org.apache.spark.sql.execution.QueryExecution.toRdd(QueryExecution.scala:80)\r",
      "  at org.apache.spark.sql.DataFrameWriter$$anonfun$runCommand$1.apply(DataFrameWriter.scala:654)\r",
      "  at org.apache.spark.sql.DataFrameWriter$$anonfun$runCommand$1.apply(DataFrameWriter.scala:654)\r",
      "  at org.apache.spark.sql.execution.SQLExecution$.withNewExecutionId(SQLExecution.scala:77)\r",
      "  at org.apache.spark.sql.DataFrameWriter.runCommand(DataFrameWriter.scala:654)\r",
      "  at org.apache.spark.sql.DataFrameWriter.saveToV1Source(DataFrameWriter.scala:273)\r",
      "  at org.apache.spark.sql.DataFrameWriter.save(DataFrameWriter.scala:267)\r",
      "  at org.apache.spark.sql.DataFrameWriter.save(DataFrameWriter.scala:225)\r",
      "  ... 40 elided",
      ""
     ]
    }
   ],
   "source": [
    "finalDF2.write.format(\"csv\").option(\"header\",true).mode(\"overwrite\").option(\"sep\",\",\").save(\"./FinalDF.csv\")"
   ]
  },
  {
   "cell_type": "code",
   "execution_count": 51,
   "metadata": {},
   "outputs": [],
   "source": [
    "finalDF2.select(\"Platform\",\"Genre\",\"Publisher\",\"NA_Sales\",\"EU_Sales\",\"JP_Sales\",\"Other_Sales\",\"Global_Sales\",\"Rating\",\"Critic_Score_Class\",\"KMEANS-prediction\",\"GMM-prediction\",\"BisKMeans-prediction\").write.format(\"csv\").option(\"header\",true).mode(\"overwrite\").option(\"sep\",\",\").save(\"./FinalDF\")"
   ]
  },
  {
   "cell_type": "code",
   "execution_count": 48,
   "metadata": {},
   "outputs": [
    {
     "ename": "java.lang.UnsupportedOperationException",
     "evalue": " CSV data source does not support struct<type:tinyint,size:int,indices:array<int>,values:array<double>> data type.\r",
     "output_type": "error",
     "traceback": [
      "java.lang.UnsupportedOperationException: CSV data source does not support struct<type:tinyint,size:int,indices:array<int>,values:array<double>> data type.\r",
      "  at org.apache.spark.sql.execution.datasources.csv.CSVUtils$.org$apache$spark$sql$execution$datasources$csv$CSVUtils$$verifyType$1(CSVUtils.scala:127)\r",
      "  at org.apache.spark.sql.execution.datasources.csv.CSVUtils$$anonfun$verifySchema$1.apply(CSVUtils.scala:131)\r",
      "  at org.apache.spark.sql.execution.datasources.csv.CSVUtils$$anonfun$verifySchema$1.apply(CSVUtils.scala:131)\r",
      "  at scala.collection.Iterator$class.foreach(Iterator.scala:893)\r",
      "  at scala.collection.AbstractIterator.foreach(Iterator.scala:1336)\r",
      "  at scala.collection.IterableLike$class.foreach(IterableLike.scala:72)\r",
      "  at org.apache.spark.sql.types.StructType.foreach(StructType.scala:99)\r",
      "  at org.apache.spark.sql.execution.datasources.csv.CSVUtils$.verifySchema(CSVUtils.scala:131)\r",
      "  at org.apache.spark.sql.execution.datasources.csv.CSVFileFormat.prepareWrite(CSVFileFormat.scala:65)\r",
      "  at org.apache.spark.sql.execution.datasources.FileFormatWriter$.write(FileFormatWriter.scala:140)\r",
      "  at org.apache.spark.sql.execution.datasources.InsertIntoHadoopFsRelationCommand.run(InsertIntoHadoopFsRelationCommand.scala:154)\r",
      "  at org.apache.spark.sql.execution.command.DataWritingCommandExec.sideEffectResult$lzycompute(commands.scala:104)\r",
      "  at org.apache.spark.sql.execution.command.DataWritingCommandExec.sideEffectResult(commands.scala:102)\r",
      "  at org.apache.spark.sql.execution.command.DataWritingCommandExec.doExecute(commands.scala:122)\r",
      "  at org.apache.spark.sql.execution.SparkPlan$$anonfun$execute$1.apply(SparkPlan.scala:131)\r",
      "  at org.apache.spark.sql.execution.SparkPlan$$anonfun$execute$1.apply(SparkPlan.scala:127)\r",
      "  at org.apache.spark.sql.execution.SparkPlan$$anonfun$executeQuery$1.apply(SparkPlan.scala:155)\r",
      "  at org.apache.spark.rdd.RDDOperationScope$.withScope(RDDOperationScope.scala:151)\r",
      "  at org.apache.spark.sql.execution.SparkPlan.executeQuery(SparkPlan.scala:152)\r",
      "  at org.apache.spark.sql.execution.SparkPlan.execute(SparkPlan.scala:127)\r",
      "  at org.apache.spark.sql.execution.QueryExecution.toRdd$lzycompute(QueryExecution.scala:80)\r",
      "  at org.apache.spark.sql.execution.QueryExecution.toRdd(QueryExecution.scala:80)\r",
      "  at org.apache.spark.sql.DataFrameWriter$$anonfun$runCommand$1.apply(DataFrameWriter.scala:654)\r",
      "  at org.apache.spark.sql.DataFrameWriter$$anonfun$runCommand$1.apply(DataFrameWriter.scala:654)\r",
      "  at org.apache.spark.sql.execution.SQLExecution$.withNewExecutionId(SQLExecution.scala:77)\r",
      "  at org.apache.spark.sql.DataFrameWriter.runCommand(DataFrameWriter.scala:654)\r",
      "  at org.apache.spark.sql.DataFrameWriter.saveToV1Source(DataFrameWriter.scala:273)\r",
      "  at org.apache.spark.sql.DataFrameWriter.save(DataFrameWriter.scala:267)\r",
      "  at org.apache.spark.sql.DataFrameWriter.save(DataFrameWriter.scala:225)\r",
      "  at org.apache.spark.sql.DataFrameWriter.csv(DataFrameWriter.scala:642)\r",
      "  ... 40 elided",
      ""
     ]
    }
   ],
   "source": [
    "finalDF2.write.csv(\"./ssssssssssssssssssssssss.csv\")\n",
    "userRecs1.select('ID_CTE', 'recommendations.*').write.csv('/user-home/libraries/Sampled_data/datasets/rec_per_user.csv')"
   ]
  },
  {
   "cell_type": "code",
   "execution_count": null,
   "metadata": {},
   "outputs": [],
   "source": []
  }
 ],
 "metadata": {
  "kernelspec": {
   "display_name": "spylon-kernel",
   "language": "scala",
   "name": "spylon-kernel"
  },
  "language_info": {
   "codemirror_mode": "text/x-scala",
   "file_extension": ".scala",
   "help_links": [
    {
     "text": "MetaKernel Magics",
     "url": "https://metakernel.readthedocs.io/en/latest/source/README.html"
    }
   ],
   "mimetype": "text/x-scala",
   "name": "scala",
   "pygments_lexer": "scala",
   "version": "0.4.1"
  }
 },
 "nbformat": 4,
 "nbformat_minor": 4
}
