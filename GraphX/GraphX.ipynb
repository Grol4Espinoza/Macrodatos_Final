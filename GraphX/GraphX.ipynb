{
 "cells": [
  {
   "cell_type": "code",
   "execution_count": 1,
   "id": "possible-investigator",
   "metadata": {},
   "outputs": [
    {
     "data": {
      "text/plain": [
       "Intitializing Scala interpreter ..."
      ]
     },
     "metadata": {},
     "output_type": "display_data"
    },
    {
     "data": {
      "text/plain": [
       "Spark Web UI available at http://toshiba:4040\n",
       "SparkContext available as 'sc' (version = 2.4.4, master = local[*], app id = local-1614100294678)\n",
       "SparkSession available as 'spark'\n"
      ]
     },
     "metadata": {},
     "output_type": "display_data"
    },
    {
     "data": {
      "text/plain": [
       "import org.apache.spark.sql.types._\r\n",
       "import spark.implicits._\r\n",
       "import org.apache.spark.ml.clustering.{KMeans, KMeansModel}\r\n",
       "import org.apache.spark.ml.feature.VectorAssembler\r\n",
       "import org.apache.spark.ml.linalg.{Vectors, Vector}\n"
      ]
     },
     "execution_count": 1,
     "metadata": {},
     "output_type": "execute_result"
    }
   ],
   "source": [
    "import org.apache.spark.sql.types._\n",
    "import spark.implicits._ \n",
    "import org.apache.spark.ml.clustering.{KMeans, KMeansModel}\n",
    "import org.apache.spark.ml.feature.VectorAssembler\n",
    "import org.apache.spark.ml.linalg.{Vectors, Vector}"
   ]
  },
  {
   "cell_type": "code",
   "execution_count": 9,
   "id": "alpine-estate",
   "metadata": {},
   "outputs": [
    {
     "data": {
      "text/plain": [
       "schema: org.apache.spark.sql.types.StructType = StructType(StructField(Platform,StringType,true), StructField(Genre,StringType,true), StructField(Publisher,StringType,true), StructField(NA_Sales,DoubleType,true), StructField(EU_Sales,DoubleType,true), StructField(JP_Sales,DoubleType,true), StructField(Other_Sales,DoubleType,true), StructField(Global_Sales,DoubleType,true), StructField(Rating,StringType,true), StructField(Critic_Score_Class,StringType,true), StructField(KMEANS-prediction,IntegerType,true), StructField(GMM-prediction,IntegerType,true), StructField(BisKMeans-prediction,IntegerType,true))\n"
      ]
     },
     "execution_count": 9,
     "metadata": {},
     "output_type": "execute_result"
    }
   ],
   "source": [
    "val schema = StructType(\n",
    "  StructField(\"Platform\", StringType, nullable = true) ::\n",
    "    StructField(\"Genre\", StringType, nullable = true) ::\n",
    "    StructField(\"Publisher\", StringType, nullable = true) ::\n",
    "    StructField(\"NA_Sales\", DoubleType, nullable = true) ::\n",
    "    StructField(\"EU_Sales\", DoubleType, nullable = true) ::\n",
    "    StructField(\"JP_Sales\", DoubleType, nullable = true) ::\n",
    "    StructField(\"Other_Sales\", DoubleType, nullable = true) ::\n",
    "    StructField(\"Global_Sales\", DoubleType, nullable = true) ::\n",
    "    StructField(\"Rating\", StringType, nullable = true) ::    \n",
    "    StructField(\"Critic_Score_Class\", StringType, nullable = true) ::\n",
    "    StructField(\"KMEANS-prediction\", IntegerType, nullable = true) ::\n",
    "    StructField(\"GMM-prediction\", IntegerType, nullable = true) ::\n",
    "    StructField(\"BisKMeans-prediction\", IntegerType, nullable = true) ::\n",
    "    Nil\n",
    ")"
   ]
  },
  {
   "cell_type": "code",
   "execution_count": 10,
   "id": "sorted-shuttle",
   "metadata": {},
   "outputs": [
    {
     "name": "stdout",
     "output_type": "stream",
     "text": [
      "root\n",
      " |-- Platform: string (nullable = true)\n",
      " |-- Genre: string (nullable = true)\n",
      " |-- Publisher: string (nullable = true)\n",
      " |-- NA_Sales: double (nullable = true)\n",
      " |-- EU_Sales: double (nullable = true)\n",
      " |-- JP_Sales: double (nullable = true)\n",
      " |-- Other_Sales: double (nullable = true)\n",
      " |-- Global_Sales: double (nullable = true)\n",
      " |-- Rating: string (nullable = true)\n",
      " |-- Critic_Score_Class: string (nullable = true)\n",
      " |-- KMEANS-prediction: integer (nullable = true)\n",
      " |-- GMM-prediction: integer (nullable = true)\n",
      " |-- BisKMeans-prediction: integer (nullable = true)\n",
      "\n",
      "+--------+------+--------------------+--------+--------+--------+-----------+------------+------+------------------+-----------------+--------------+--------------------+\n",
      "|Platform| Genre|           Publisher|NA_Sales|EU_Sales|JP_Sales|Other_Sales|Global_Sales|Rating|Critic_Score_Class|KMEANS-prediction|GMM-prediction|BisKMeans-prediction|\n",
      "+--------+------+--------------------+--------+--------+--------+-----------+------------+------+------------------+-----------------+--------------+--------------------+\n",
      "|     3DS|Action|           505 Games|     0.0|    0.05|    0.05|        0.0|         0.1|     T|             Bueno|                2|             1|                   0|\n",
      "|     3DS|Action|          Activision|    0.13|    0.01|     0.0|       0.02|        0.15|  E10+|              Malo|                2|             3|                   0|\n",
      "|     3DS|Action|          Activision|    0.33|     0.2|     0.0|       0.05|        0.58|  E10+|         Excelente|                0|             0|                   0|\n",
      "|     3DS|Action|          Activision|    0.38|     0.2|     0.0|       0.05|        0.63|     E|         Aceptable|                0|             0|                   0|\n",
      "|     3DS|Action|Agatsuma Entertai...|    0.16|     0.0|    0.03|       0.01|         0.2|     T|         Aceptable|                2|             1|                   0|\n",
      "|     3DS|Action|              Capcom|    0.16|    0.16|    0.13|       0.03|        0.49|     M|         Aceptable|                2|             1|                   0|\n",
      "|     3DS|Action|              Capcom|     0.3|    0.22|     0.3|       0.05|        0.88|     M|         Excelente|                0|             6|                   1|\n",
      "|     3DS|Action|     Electronic Arts|    0.06|     0.2|     0.0|       0.03|        0.29|     E|         Aceptable|                2|             0|                   0|\n",
      "|     3DS|Action|               G.Rev|     0.0|     0.0|    0.01|        0.0|        0.01|     E|             Bueno|                2|             1|                   0|\n",
      "|     3DS|Action|Konami Digital En...|    0.15|    0.11|     0.1|       0.02|        0.38|     M|             Bueno|                2|             1|                   0|\n",
      "+--------+------+--------------------+--------+--------+--------+-----------+------------+------+------------------+-----------------+--------------+--------------------+\n",
      "only showing top 10 rows\n",
      "\n"
     ]
    },
    {
     "data": {
      "text/plain": [
       "videogameDf: org.apache.spark.sql.Dataset[org.apache.spark.sql.Row] = [Platform: string, Genre: string ... 11 more fields]\n"
      ]
     },
     "execution_count": 10,
     "metadata": {},
     "output_type": "execute_result"
    }
   ],
   "source": [
    "val videogameDf = spark.read.format(\"csv\").option(\"header\", value = true).option(\"delimiter\", \",\").option(\"mode\", \"DROPMALFORMED\").schema(schema).load(\"finalDF.csv\").cache()\n",
    "\n",
    "videogameDf.printSchema()\n",
    "videogameDf.show(10)"
   ]
  },
  {
   "cell_type": "code",
   "execution_count": 11,
   "id": "standing-paragraph",
   "metadata": {},
   "outputs": [
    {
     "data": {
      "text/plain": [
       "import org.apache.spark._\r\n",
       "import org.apache.spark.rdd.RDD\r\n",
       "import org.apache.spark.util.IntParam\r\n",
       "import org.apache.spark.graphx._\r\n",
       "import org.apache.spark.graphx.util.GraphGenerators\n"
      ]
     },
     "execution_count": 11,
     "metadata": {},
     "output_type": "execute_result"
    }
   ],
   "source": [
    "import org.apache.spark._\n",
    "import org.apache.spark.rdd.RDD \n",
    "import org.apache.spark.util.IntParam \n",
    "import org.apache.spark.graphx._\n",
    "import org.apache.spark.graphx.util.GraphGenerators "
   ]
  },
  {
   "cell_type": "code",
   "execution_count": 77,
   "id": "grateful-mistress",
   "metadata": {},
   "outputs": [
    {
     "data": {
      "text/plain": [
       "vertexArray: Array[(Long, String)] = Array((0,NA_Sales), (1,EU_Sales), (2,JP_Sales))\n"
      ]
     },
     "execution_count": 77,
     "metadata": {},
     "output_type": "execute_result"
    }
   ],
   "source": [
    "var vertexArray:Array[(Long, String)] = new Array[(Long, String)](3)\n",
    "vertexArray(0) = (0L, \"NA_Sales\")\n",
    "vertexArray(1) = (1L, \"EU_Sales\")\n",
    "vertexArray(2) = (2L, \"JP_Sales\")\n"
   ]
  },
  {
   "cell_type": "code",
   "execution_count": 78,
   "id": "fabulous-rolling",
   "metadata": {},
   "outputs": [
    {
     "data": {
      "text/plain": [
       "vertexRDD: org.apache.spark.rdd.RDD[(Long, String)] = ParallelCollectionRDD[58] at parallelize at <console>:45\n"
      ]
     },
     "execution_count": 78,
     "metadata": {},
     "output_type": "execute_result"
    }
   ],
   "source": []
  },
  {
   "cell_type": "code",
   "execution_count": 200,
   "id": "editorial-myrtle",
   "metadata": {},
   "outputs": [
    {
     "data": {
      "text/plain": [
       "length: Long = 4951\n"
      ]
     },
     "execution_count": 200,
     "metadata": {},
     "output_type": "execute_result"
    }
   ],
   "source": [
    "val length = videogameDf.count"
   ]
  },
  {
   "cell_type": "code",
   "execution_count": 212,
   "id": "configured-merchant",
   "metadata": {},
   "outputs": [
    {
     "data": {
      "text/plain": [
       "edgeArray: Array[org.apache.spark.graphx.Edge[Double]] = Array(Edge(0,1,-0.05), Edge(0,2,-0.05), Edge(1,2,0.0), Edge(0,1,0.12000000000000001), Edge(0,2,0.13), Edge(1,2,0.01), Edge(0,1,0.13), Edge(0,2,0.33), Edge(1,2,0.2), Edge(0,1,0.18), Edge(0,2,0.38), Edge(1,2,0.2), Edge(0,1,0.16), Edge(0,2,0.13), Edge(1,2,-0.03), Edge(0,1,0.0), Edge(0,2,0.03), Edge(1,2,0.03), Edge(0,1,0.07999999999999999), Edge(0,2,0.0), Edge(1,2,-0.07999999999999999), Edge(0,1,-0.14), Edge(0,2,0.06), Edge(1,2,0.2), Edge(0,1,0.0), Edge(0,2,-0.01), Edge(1,2,-0.01), Edge(0,1,0.039999999999999994), Edge(0,2,0.04999999999999999), Edge(1,2,0.009999999999999995), Edge(0,1,-0.07), Edge(0,2,0.0), Edge(1,2,0.07), Edge(0,1,0.18), Edge(0,2,0.61), Edge(1,2,0.43), Edge(0,1,0.23999999999999996), Edge(0,2,0.10999999999999999), Edge..."
      ]
     },
     "execution_count": 212,
     "metadata": {},
     "output_type": "execute_result"
    }
   ],
   "source": [
    "val edgeArray = videogameDf.select(\"NA_Sales\", \"EU_Sales\", \"JP_Sales\").as[(Double,Double,Double)].collect\n",
    ".flatMap{row => \n",
    "     val edges = Array(\n",
    "                  Edge(0L, 1L, (row._1-row._2)),\n",
    "                  Edge(0L, 2L, (row._1-row._3)),\n",
    "                  Edge(1L, 2L, (row._2-row._3))\n",
    "     )\n",
    "    edges\n",
    "}"
   ]
  },
  {
   "cell_type": "code",
   "execution_count": 217,
   "id": "preliminary-attempt",
   "metadata": {},
   "outputs": [
    {
     "data": {
      "text/plain": [
       "edgeRDD: org.apache.spark.rdd.RDD[org.apache.spark.graphx.Edge[Double]] = ParallelCollectionRDD[192] at parallelize at <console>:45\n"
      ]
     },
     "execution_count": 217,
     "metadata": {},
     "output_type": "execute_result"
    }
   ],
   "source": [
    "val vertexRDD: RDD[(Long, (String))] = sc.parallelize(vertexArray)\n",
    "val edgeRDD: RDD[Edge[Double]] = sc.parallelize(edgeArray)\n",
    "val graph: Graph[(String), Double] = Graph(vertexRDD, edgeRDD)"
   ]
  },
  {
   "cell_type": "code",
   "execution_count": 219,
   "id": "psychological-female",
   "metadata": {},
   "outputs": [
    {
     "data": {
      "text/plain": [
       "graph: org.apache.spark.graphx.Graph[String,Double] = org.apache.spark.graphx.impl.GraphImpl@29012b51\n"
      ]
     },
     "execution_count": 219,
     "metadata": {},
     "output_type": "execute_result"
    }
   ],
   "source": []
  },
  {
   "cell_type": "code",
   "execution_count": 244,
   "id": "worth-consultancy",
   "metadata": {},
   "outputs": [
    {
     "data": {
      "text/plain": [
       "res145: Int = 7905\n"
      ]
     },
     "execution_count": 244,
     "metadata": {},
     "output_type": "execute_result"
    }
   ],
   "source": [
    "graph.triplets.collect.filter{triplet => \n",
    "    (triplet.attr > 0 && triplet.srcAttr==\"NA_Sales\") ||\n",
    "    (triplet.attr < 0 && triplet.dstAttr==\"NA_Sales\")}\n",
    ".length"
   ]
  },
  {
   "cell_type": "code",
   "execution_count": 242,
   "id": "opposed-claim",
   "metadata": {},
   "outputs": [
    {
     "data": {
      "text/plain": [
       "res143: Int = 1038\n"
      ]
     },
     "execution_count": 242,
     "metadata": {},
     "output_type": "execute_result"
    }
   ],
   "source": [
    "graph.triplets.collect.filter{triplet => \n",
    "    (triplet.attr > 0 && triplet.srcAttr==\"JP_Sales\") ||\n",
    "    (triplet.attr < 0 && triplet.dstAttr==\"JP_Sales\")}\n",
    ".length"
   ]
  },
  {
   "cell_type": "code",
   "execution_count": 243,
   "id": "constitutional-writing",
   "metadata": {},
   "outputs": [
    {
     "data": {
      "text/plain": [
       "res144: Int = 4772\n"
      ]
     },
     "execution_count": 243,
     "metadata": {},
     "output_type": "execute_result"
    }
   ],
   "source": [
    "graph.triplets.collect.filter{triplet => \n",
    "    (triplet.attr > 0 && triplet.srcAttr==\"EU_Sales\") ||\n",
    "    (triplet.attr < 0 && triplet.dstAttr==\"EU_Sales\")}\n",
    ".length"
   ]
  }
 ],
 "metadata": {
  "kernelspec": {
   "display_name": "spylon-kernel",
   "language": "scala",
   "name": "spylon-kernel"
  },
  "language_info": {
   "codemirror_mode": "text/x-scala",
   "file_extension": ".scala",
   "help_links": [
    {
     "text": "MetaKernel Magics",
     "url": "https://metakernel.readthedocs.io/en/latest/source/README.html"
    }
   ],
   "mimetype": "text/x-scala",
   "name": "scala",
   "pygments_lexer": "scala",
   "version": "0.4.1"
  }
 },
 "nbformat": 4,
 "nbformat_minor": 5
}
